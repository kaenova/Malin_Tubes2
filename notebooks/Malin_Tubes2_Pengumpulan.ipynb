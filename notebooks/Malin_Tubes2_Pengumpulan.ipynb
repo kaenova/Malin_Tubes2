{
 "cells": [
  {
   "cell_type": "markdown",
   "metadata": {
    "id": "iNY0Ywbm_aSV"
   },
   "source": [
    "# Pembelajaran Mesin: Tugas Besar 2\n",
    "\n",
    "Kaenova Mahendra Auditama (1301190324)  \n",
    "M Adi Ikfini (1301194160)  \n",
    "IF-43-02  \n",
    "\n",
    "  \n",
    "Pada kodingan ini, kami mencoba untuk membuat sebuah model yang akan digunakan untuk membuat prediksi pada suatu data. Data yang diberikan merupakan data ketertarikan pelanggan untuk membeli kendaraan baru. Kami diminta untuk menggunakan metode supervised learning untuk melakukan prediksi tersebut. Kami akan mencoba melakukan prediksi menggunakan training data dan testing data dengan data yang imbalance.\n",
    "  \n",
    "  \n",
    "<sup>\\*runs on AI Lab computer</sup>"
   ]
  },
  {
   "cell_type": "markdown",
   "metadata": {
    "id": "yNPdUYaiINhO"
   },
   "source": [
    "# Pre-Requisite"
   ]
  },
  {
   "cell_type": "markdown",
   "metadata": {
    "id": "XsZfC_UESK43"
   },
   "source": [
    "## Drive Connect"
   ]
  },
  {
   "cell_type": "code",
   "execution_count": 1,
   "metadata": {
    "executionInfo": {
     "elapsed": 5,
     "status": "ok",
     "timestamp": 1639013856876,
     "user": {
      "displayName": "Kaenova Mahendra Auditama",
      "photoUrl": "https://lh3.googleusercontent.com/a-/AOh14Gi1RKfxEOWo3OIlFm8PnyXZE9ZHeE2hrNOTSBDKYw=s64",
      "userId": "02421881994816586492"
     },
     "user_tz": -420
    },
    "id": "HBQO9lVISOlU"
   },
   "outputs": [],
   "source": [
    "# from google.colab import drive\n",
    "# drive.mount('/content/drive')"
   ]
  },
  {
   "cell_type": "markdown",
   "metadata": {
    "id": "6EQZz06v_aSb"
   },
   "source": [
    "## Import Library"
   ]
  },
  {
   "cell_type": "code",
   "execution_count": 4,
   "metadata": {
    "executionInfo": {
     "elapsed": 2951,
     "status": "ok",
     "timestamp": 1639013863524,
     "user": {
      "displayName": "Kaenova Mahendra Auditama",
      "photoUrl": "https://lh3.googleusercontent.com/a-/AOh14Gi1RKfxEOWo3OIlFm8PnyXZE9ZHeE2hrNOTSBDKYw=s64",
      "userId": "02421881994816586492"
     },
     "user_tz": -420
    },
    "id": "mJZiT9ul_aSb"
   },
   "outputs": [],
   "source": [
    "%matplotlib inline\n",
    "import pandas as pd\n",
    "import matplotlib.pyplot as plt\n",
    "import matplotlib.cm as cm\n",
    "import numpy as np\n",
    "import pickle\n",
    "import random\n",
    "import math\n",
    "from sklearn.preprocessing import MinMaxScaler\n",
    "from urllib.request import urlopen\n",
    "from scipy.stats import chi2_contingency\n",
    "import numpy as np\n",
    "from sklearn.model_selection import StratifiedKFold\n",
    "import tensorflow as tf\n",
    "from tensorflow import keras\n",
    "from tensorflow.keras import layers\n",
    "from tensorflow.keras.models import Sequential\n",
    "from tensorflow.keras.layers import Dense\n",
    "# Seeding for predictable output\n",
    "tf.random.set_seed(1)\n",
    "np.random.seed(1)"
   ]
  },
  {
   "cell_type": "markdown",
   "metadata": {
    "id": "tJL2ve_u_aSd"
   },
   "source": [
    "## Import Data"
   ]
  },
  {
   "cell_type": "markdown",
   "metadata": {
    "id": "heZjMxHQ_aSd"
   },
   "source": [
    "### Import Train"
   ]
  },
  {
   "cell_type": "code",
   "execution_count": 5,
   "metadata": {
    "colab": {
     "base_uri": "https://localhost:8080/",
     "height": 206
    },
    "executionInfo": {
     "elapsed": 1491,
     "status": "ok",
     "timestamp": 1639013865012,
     "user": {
      "displayName": "Kaenova Mahendra Auditama",
      "photoUrl": "https://lh3.googleusercontent.com/a-/AOh14Gi1RKfxEOWo3OIlFm8PnyXZE9ZHeE2hrNOTSBDKYw=s64",
      "userId": "02421881994816586492"
     },
     "user_tz": -420
    },
    "id": "IasjgBnz_aSe",
    "outputId": "2c2f087a-52b4-4ba9-d240-b3f94ee01357"
   },
   "outputs": [
    {
     "data": {
      "text/html": [
       "<div>\n",
       "<style scoped>\n",
       "    .dataframe tbody tr th:only-of-type {\n",
       "        vertical-align: middle;\n",
       "    }\n",
       "\n",
       "    .dataframe tbody tr th {\n",
       "        vertical-align: top;\n",
       "    }\n",
       "\n",
       "    .dataframe thead th {\n",
       "        text-align: right;\n",
       "    }\n",
       "</style>\n",
       "<table border=\"1\" class=\"dataframe\">\n",
       "  <thead>\n",
       "    <tr style=\"text-align: right;\">\n",
       "      <th></th>\n",
       "      <th>id</th>\n",
       "      <th>Jenis_Kelamin</th>\n",
       "      <th>Umur</th>\n",
       "      <th>SIM</th>\n",
       "      <th>Kode_Daerah</th>\n",
       "      <th>Sudah_Asuransi</th>\n",
       "      <th>Umur_Kendaraan</th>\n",
       "      <th>Kendaraan_Rusak</th>\n",
       "      <th>Premi</th>\n",
       "      <th>Kanal_Penjualan</th>\n",
       "      <th>Lama_Berlangganan</th>\n",
       "      <th>Tertarik</th>\n",
       "    </tr>\n",
       "  </thead>\n",
       "  <tbody>\n",
       "    <tr>\n",
       "      <th>0</th>\n",
       "      <td>1</td>\n",
       "      <td>Wanita</td>\n",
       "      <td>30.0</td>\n",
       "      <td>1.0</td>\n",
       "      <td>33.0</td>\n",
       "      <td>1.0</td>\n",
       "      <td>&lt; 1 Tahun</td>\n",
       "      <td>Tidak</td>\n",
       "      <td>28029.0</td>\n",
       "      <td>152.0</td>\n",
       "      <td>97.0</td>\n",
       "      <td>0</td>\n",
       "    </tr>\n",
       "    <tr>\n",
       "      <th>1</th>\n",
       "      <td>2</td>\n",
       "      <td>Pria</td>\n",
       "      <td>48.0</td>\n",
       "      <td>1.0</td>\n",
       "      <td>39.0</td>\n",
       "      <td>0.0</td>\n",
       "      <td>&gt; 2 Tahun</td>\n",
       "      <td>Pernah</td>\n",
       "      <td>25800.0</td>\n",
       "      <td>29.0</td>\n",
       "      <td>158.0</td>\n",
       "      <td>0</td>\n",
       "    </tr>\n",
       "    <tr>\n",
       "      <th>2</th>\n",
       "      <td>3</td>\n",
       "      <td>NaN</td>\n",
       "      <td>21.0</td>\n",
       "      <td>1.0</td>\n",
       "      <td>46.0</td>\n",
       "      <td>1.0</td>\n",
       "      <td>&lt; 1 Tahun</td>\n",
       "      <td>Tidak</td>\n",
       "      <td>32733.0</td>\n",
       "      <td>160.0</td>\n",
       "      <td>119.0</td>\n",
       "      <td>0</td>\n",
       "    </tr>\n",
       "    <tr>\n",
       "      <th>3</th>\n",
       "      <td>4</td>\n",
       "      <td>Wanita</td>\n",
       "      <td>58.0</td>\n",
       "      <td>1.0</td>\n",
       "      <td>48.0</td>\n",
       "      <td>0.0</td>\n",
       "      <td>1-2 Tahun</td>\n",
       "      <td>Tidak</td>\n",
       "      <td>2630.0</td>\n",
       "      <td>124.0</td>\n",
       "      <td>63.0</td>\n",
       "      <td>0</td>\n",
       "    </tr>\n",
       "    <tr>\n",
       "      <th>4</th>\n",
       "      <td>5</td>\n",
       "      <td>Pria</td>\n",
       "      <td>50.0</td>\n",
       "      <td>1.0</td>\n",
       "      <td>35.0</td>\n",
       "      <td>0.0</td>\n",
       "      <td>&gt; 2 Tahun</td>\n",
       "      <td>NaN</td>\n",
       "      <td>34857.0</td>\n",
       "      <td>88.0</td>\n",
       "      <td>194.0</td>\n",
       "      <td>0</td>\n",
       "    </tr>\n",
       "  </tbody>\n",
       "</table>\n",
       "</div>"
      ],
      "text/plain": [
       "   id Jenis_Kelamin  Umur  SIM  Kode_Daerah  Sudah_Asuransi Umur_Kendaraan  \\\n",
       "0   1        Wanita  30.0  1.0         33.0             1.0      < 1 Tahun   \n",
       "1   2          Pria  48.0  1.0         39.0             0.0      > 2 Tahun   \n",
       "2   3           NaN  21.0  1.0         46.0             1.0      < 1 Tahun   \n",
       "3   4        Wanita  58.0  1.0         48.0             0.0      1-2 Tahun   \n",
       "4   5          Pria  50.0  1.0         35.0             0.0      > 2 Tahun   \n",
       "\n",
       "  Kendaraan_Rusak    Premi  Kanal_Penjualan  Lama_Berlangganan  Tertarik  \n",
       "0           Tidak  28029.0            152.0               97.0         0  \n",
       "1          Pernah  25800.0             29.0              158.0         0  \n",
       "2           Tidak  32733.0            160.0              119.0         0  \n",
       "3           Tidak   2630.0            124.0               63.0         0  \n",
       "4             NaN  34857.0             88.0              194.0         0  "
      ]
     },
     "execution_count": 5,
     "metadata": {},
     "output_type": "execute_result"
    }
   ],
   "source": [
    "df_raw_train = pd.read_csv(\"https://raw.githubusercontent.com/kaenova/Malin_Tubes1/main/data/raw/kendaraan_train.csv\")\n",
    "df_raw_train.head()"
   ]
  },
  {
   "cell_type": "code",
   "execution_count": 6,
   "metadata": {
    "colab": {
     "base_uri": "https://localhost:8080/"
    },
    "executionInfo": {
     "elapsed": 9,
     "status": "ok",
     "timestamp": 1639013865013,
     "user": {
      "displayName": "Kaenova Mahendra Auditama",
      "photoUrl": "https://lh3.googleusercontent.com/a-/AOh14Gi1RKfxEOWo3OIlFm8PnyXZE9ZHeE2hrNOTSBDKYw=s64",
      "userId": "02421881994816586492"
     },
     "user_tz": -420
    },
    "id": "adUL8mhs_aSf",
    "outputId": "2ca0475f-fe76-4b71-a7a5-95f843f58c6e"
   },
   "outputs": [
    {
     "data": {
      "text/plain": [
       "285831"
      ]
     },
     "execution_count": 6,
     "metadata": {},
     "output_type": "execute_result"
    }
   ],
   "source": [
    "len(df_raw_train)"
   ]
  },
  {
   "cell_type": "markdown",
   "metadata": {
    "id": "5mw2Lws8_aSg"
   },
   "source": [
    "### Import Test"
   ]
  },
  {
   "cell_type": "code",
   "execution_count": 7,
   "metadata": {
    "colab": {
     "base_uri": "https://localhost:8080/",
     "height": 206
    },
    "executionInfo": {
     "elapsed": 792,
     "status": "ok",
     "timestamp": 1639013865800,
     "user": {
      "displayName": "Kaenova Mahendra Auditama",
      "photoUrl": "https://lh3.googleusercontent.com/a-/AOh14Gi1RKfxEOWo3OIlFm8PnyXZE9ZHeE2hrNOTSBDKYw=s64",
      "userId": "02421881994816586492"
     },
     "user_tz": -420
    },
    "id": "f8bxea4m_aSg",
    "outputId": "61338b93-64d5-4244-9117-de1d2340c285"
   },
   "outputs": [
    {
     "data": {
      "text/html": [
       "<div>\n",
       "<style scoped>\n",
       "    .dataframe tbody tr th:only-of-type {\n",
       "        vertical-align: middle;\n",
       "    }\n",
       "\n",
       "    .dataframe tbody tr th {\n",
       "        vertical-align: top;\n",
       "    }\n",
       "\n",
       "    .dataframe thead th {\n",
       "        text-align: right;\n",
       "    }\n",
       "</style>\n",
       "<table border=\"1\" class=\"dataframe\">\n",
       "  <thead>\n",
       "    <tr style=\"text-align: right;\">\n",
       "      <th></th>\n",
       "      <th>Jenis_Kelamin</th>\n",
       "      <th>Umur</th>\n",
       "      <th>SIM</th>\n",
       "      <th>Kode_Daerah</th>\n",
       "      <th>Sudah_Asuransi</th>\n",
       "      <th>Umur_Kendaraan</th>\n",
       "      <th>Kendaraan_Rusak</th>\n",
       "      <th>Premi</th>\n",
       "      <th>Kanal_Penjualan</th>\n",
       "      <th>Lama_Berlangganan</th>\n",
       "      <th>Tertarik</th>\n",
       "    </tr>\n",
       "  </thead>\n",
       "  <tbody>\n",
       "    <tr>\n",
       "      <th>0</th>\n",
       "      <td>Wanita</td>\n",
       "      <td>49</td>\n",
       "      <td>1</td>\n",
       "      <td>8</td>\n",
       "      <td>0</td>\n",
       "      <td>1-2 Tahun</td>\n",
       "      <td>Pernah</td>\n",
       "      <td>46963</td>\n",
       "      <td>26</td>\n",
       "      <td>145</td>\n",
       "      <td>0</td>\n",
       "    </tr>\n",
       "    <tr>\n",
       "      <th>1</th>\n",
       "      <td>Pria</td>\n",
       "      <td>22</td>\n",
       "      <td>1</td>\n",
       "      <td>47</td>\n",
       "      <td>1</td>\n",
       "      <td>&lt; 1 Tahun</td>\n",
       "      <td>Tidak</td>\n",
       "      <td>39624</td>\n",
       "      <td>152</td>\n",
       "      <td>241</td>\n",
       "      <td>0</td>\n",
       "    </tr>\n",
       "    <tr>\n",
       "      <th>2</th>\n",
       "      <td>Pria</td>\n",
       "      <td>24</td>\n",
       "      <td>1</td>\n",
       "      <td>28</td>\n",
       "      <td>1</td>\n",
       "      <td>&lt; 1 Tahun</td>\n",
       "      <td>Tidak</td>\n",
       "      <td>110479</td>\n",
       "      <td>152</td>\n",
       "      <td>62</td>\n",
       "      <td>0</td>\n",
       "    </tr>\n",
       "    <tr>\n",
       "      <th>3</th>\n",
       "      <td>Pria</td>\n",
       "      <td>46</td>\n",
       "      <td>1</td>\n",
       "      <td>8</td>\n",
       "      <td>1</td>\n",
       "      <td>1-2 Tahun</td>\n",
       "      <td>Tidak</td>\n",
       "      <td>36266</td>\n",
       "      <td>124</td>\n",
       "      <td>34</td>\n",
       "      <td>0</td>\n",
       "    </tr>\n",
       "    <tr>\n",
       "      <th>4</th>\n",
       "      <td>Pria</td>\n",
       "      <td>35</td>\n",
       "      <td>1</td>\n",
       "      <td>23</td>\n",
       "      <td>0</td>\n",
       "      <td>1-2 Tahun</td>\n",
       "      <td>Pernah</td>\n",
       "      <td>26963</td>\n",
       "      <td>152</td>\n",
       "      <td>229</td>\n",
       "      <td>0</td>\n",
       "    </tr>\n",
       "  </tbody>\n",
       "</table>\n",
       "</div>"
      ],
      "text/plain": [
       "  Jenis_Kelamin  Umur  SIM  Kode_Daerah  Sudah_Asuransi Umur_Kendaraan  \\\n",
       "0        Wanita    49    1            8               0      1-2 Tahun   \n",
       "1          Pria    22    1           47               1      < 1 Tahun   \n",
       "2          Pria    24    1           28               1      < 1 Tahun   \n",
       "3          Pria    46    1            8               1      1-2 Tahun   \n",
       "4          Pria    35    1           23               0      1-2 Tahun   \n",
       "\n",
       "  Kendaraan_Rusak   Premi  Kanal_Penjualan  Lama_Berlangganan  Tertarik  \n",
       "0          Pernah   46963               26                145         0  \n",
       "1           Tidak   39624              152                241         0  \n",
       "2           Tidak  110479              152                 62         0  \n",
       "3           Tidak   36266              124                 34         0  \n",
       "4          Pernah   26963              152                229         0  "
      ]
     },
     "execution_count": 7,
     "metadata": {},
     "output_type": "execute_result"
    }
   ],
   "source": [
    "df_raw_test = pd.read_csv(\"https://raw.githubusercontent.com/kaenova/Malin_Tubes1/main/data/raw/kendaraan_test.csv\")\n",
    "df_raw_test.head()"
   ]
  },
  {
   "cell_type": "code",
   "execution_count": 8,
   "metadata": {
    "colab": {
     "base_uri": "https://localhost:8080/"
    },
    "executionInfo": {
     "elapsed": 38,
     "status": "ok",
     "timestamp": 1639013865801,
     "user": {
      "displayName": "Kaenova Mahendra Auditama",
      "photoUrl": "https://lh3.googleusercontent.com/a-/AOh14Gi1RKfxEOWo3OIlFm8PnyXZE9ZHeE2hrNOTSBDKYw=s64",
      "userId": "02421881994816586492"
     },
     "user_tz": -420
    },
    "id": "VUhynakE_aSh",
    "outputId": "017e6211-59ed-42d0-bc0a-53267a6ec708",
    "scrolled": true
   },
   "outputs": [
    {
     "data": {
      "text/plain": [
       "47639"
      ]
     },
     "execution_count": 8,
     "metadata": {},
     "output_type": "execute_result"
    }
   ],
   "source": [
    "len(df_raw_test)"
   ]
  },
  {
   "cell_type": "markdown",
   "metadata": {
    "id": "6_PiU-9t_aSi"
   },
   "source": [
    "# Data Exploration"
   ]
  },
  {
   "cell_type": "markdown",
   "metadata": {
    "id": "NpnD8bUn_aSj"
   },
   "source": [
    "## Check Imbalance on RAW Data (Before PreProcessing)"
   ]
  },
  {
   "cell_type": "code",
   "execution_count": 9,
   "metadata": {
    "colab": {
     "base_uri": "https://localhost:8080/"
    },
    "executionInfo": {
     "elapsed": 33,
     "status": "ok",
     "timestamp": 1639013865803,
     "user": {
      "displayName": "Kaenova Mahendra Auditama",
      "photoUrl": "https://lh3.googleusercontent.com/a-/AOh14Gi1RKfxEOWo3OIlFm8PnyXZE9ZHeE2hrNOTSBDKYw=s64",
      "userId": "02421881994816586492"
     },
     "user_tz": -420
    },
    "id": "ZReEUXwc_aSk",
    "outputId": "259e7949-a088-43f9-a516-c34f815d7f3a",
    "scrolled": false
   },
   "outputs": [
    {
     "name": "stdout",
     "output_type": "stream",
     "text": [
      "Examples:\n",
      "    Total: 285831\n",
      "    Positive: 35006 (12.25% of total)\n",
      "\n"
     ]
    }
   ],
   "source": [
    "neg, pos = np.bincount(df_raw_train['Tertarik'])\n",
    "total = neg + pos\n",
    "print('Examples:\\n    Total: {}\\n    Positive: {} ({:.2f}% of total)\\n'.format(\n",
    "    total, pos, 100 * pos / total))"
   ]
  },
  {
   "cell_type": "code",
   "execution_count": 10,
   "metadata": {
    "colab": {
     "base_uri": "https://localhost:8080/"
    },
    "executionInfo": {
     "elapsed": 30,
     "status": "ok",
     "timestamp": 1639013865804,
     "user": {
      "displayName": "Kaenova Mahendra Auditama",
      "photoUrl": "https://lh3.googleusercontent.com/a-/AOh14Gi1RKfxEOWo3OIlFm8PnyXZE9ZHeE2hrNOTSBDKYw=s64",
      "userId": "02421881994816586492"
     },
     "user_tz": -420
    },
    "id": "UK1oWL8B_aSk",
    "outputId": "b6056295-d5c4-47dd-fe01-227484ce4087",
    "scrolled": false
   },
   "outputs": [
    {
     "name": "stdout",
     "output_type": "stream",
     "text": [
      "Examples:\n",
      "    Total: 47639\n",
      "    Positive: 5861 (12.30% of total)\n",
      "\n"
     ]
    }
   ],
   "source": [
    "neg, pos = np.bincount(df_raw_test['Tertarik'])\n",
    "total = neg + pos\n",
    "print('Examples:\\n    Total: {}\\n    Positive: {} ({:.2f}% of total)\\n'.format(\n",
    "    total, pos, 100 * pos / total))"
   ]
  },
  {
   "cell_type": "markdown",
   "metadata": {
    "id": "M-Lr2Dbw_aSl"
   },
   "source": [
    "## Check Null Data"
   ]
  },
  {
   "cell_type": "code",
   "execution_count": 11,
   "metadata": {
    "colab": {
     "base_uri": "https://localhost:8080/"
    },
    "executionInfo": {
     "elapsed": 25,
     "status": "ok",
     "timestamp": 1639013865804,
     "user": {
      "displayName": "Kaenova Mahendra Auditama",
      "photoUrl": "https://lh3.googleusercontent.com/a-/AOh14Gi1RKfxEOWo3OIlFm8PnyXZE9ZHeE2hrNOTSBDKYw=s64",
      "userId": "02421881994816586492"
     },
     "user_tz": -420
    },
    "id": "pcdK46XB_aSm",
    "outputId": "af3bf536-56af-49f7-c6ef-e33cb1ae0286",
    "scrolled": true
   },
   "outputs": [
    {
     "data": {
      "text/plain": [
       "True"
      ]
     },
     "execution_count": 11,
     "metadata": {},
     "output_type": "execute_result"
    }
   ],
   "source": [
    "df_raw_train.isnull().values.any()"
   ]
  },
  {
   "cell_type": "code",
   "execution_count": 12,
   "metadata": {
    "executionInfo": {
     "elapsed": 22,
     "status": "ok",
     "timestamp": 1639013865805,
     "user": {
      "displayName": "Kaenova Mahendra Auditama",
      "photoUrl": "https://lh3.googleusercontent.com/a-/AOh14Gi1RKfxEOWo3OIlFm8PnyXZE9ZHeE2hrNOTSBDKYw=s64",
      "userId": "02421881994816586492"
     },
     "user_tz": -420
    },
    "id": "GItT3XPv_aSm"
   },
   "outputs": [],
   "source": [
    "df_nan_raw_train = df_raw_train[df_raw_train.isnull().any(axis=1)]"
   ]
  },
  {
   "cell_type": "code",
   "execution_count": 13,
   "metadata": {
    "colab": {
     "base_uri": "https://localhost:8080/"
    },
    "executionInfo": {
     "elapsed": 22,
     "status": "ok",
     "timestamp": 1639013865806,
     "user": {
      "displayName": "Kaenova Mahendra Auditama",
      "photoUrl": "https://lh3.googleusercontent.com/a-/AOh14Gi1RKfxEOWo3OIlFm8PnyXZE9ZHeE2hrNOTSBDKYw=s64",
      "userId": "02421881994816586492"
     },
     "user_tz": -420
    },
    "id": "HVFaMJdR_aSn",
    "outputId": "7ab21a58-015d-42fc-d9d8-758303f859b6"
   },
   "outputs": [
    {
     "name": "stdout",
     "output_type": "stream",
     "text": [
      "Examples:\n",
      "    Total: 114763\n",
      "    Positive: 14208 (12.38% of total)\n",
      "\n"
     ]
    }
   ],
   "source": [
    "neg, pos = np.bincount(df_nan_raw_train['Tertarik'])\n",
    "total = neg + pos\n",
    "print('Examples:\\n    Total: {}\\n    Positive: {} ({:.2f}% of total)\\n'.format(\n",
    "    total, pos, 100 * pos / total))"
   ]
  },
  {
   "cell_type": "code",
   "execution_count": 14,
   "metadata": {
    "colab": {
     "base_uri": "https://localhost:8080/"
    },
    "executionInfo": {
     "elapsed": 19,
     "status": "ok",
     "timestamp": 1639013865807,
     "user": {
      "displayName": "Kaenova Mahendra Auditama",
      "photoUrl": "https://lh3.googleusercontent.com/a-/AOh14Gi1RKfxEOWo3OIlFm8PnyXZE9ZHeE2hrNOTSBDKYw=s64",
      "userId": "02421881994816586492"
     },
     "user_tz": -420
    },
    "id": "cpgSnT0Q_aSn",
    "outputId": "bfa037ab-2758-4e26-ba50-43e18a145ea8"
   },
   "outputs": [
    {
     "data": {
      "text/plain": [
       "False"
      ]
     },
     "execution_count": 14,
     "metadata": {},
     "output_type": "execute_result"
    }
   ],
   "source": [
    "df_raw_test.isnull().values.any()"
   ]
  },
  {
   "cell_type": "markdown",
   "metadata": {
    "id": "gJLWOkOh_aSo"
   },
   "source": [
    "The train data has a null data with a terget category ratio similiar with the RAW data, thus if we try to delete the null data, the ratio is slightly change and didnt break the data itself. Other than that, the test data, doesn't have null data."
   ]
  },
  {
   "cell_type": "markdown",
   "metadata": {
    "id": "lJ_o848s_aSo"
   },
   "source": [
    "## Checking Outlier using Box Plot\n",
    "Checking outlier on Umur and Lama_Berlangganan"
   ]
  },
  {
   "cell_type": "code",
   "execution_count": 15,
   "metadata": {
    "colab": {
     "base_uri": "https://localhost:8080/",
     "height": 373
    },
    "executionInfo": {
     "elapsed": 8,
     "status": "ok",
     "timestamp": 1639013867020,
     "user": {
      "displayName": "Kaenova Mahendra Auditama",
      "photoUrl": "https://lh3.googleusercontent.com/a-/AOh14Gi1RKfxEOWo3OIlFm8PnyXZE9ZHeE2hrNOTSBDKYw=s64",
      "userId": "02421881994816586492"
     },
     "user_tz": -420
    },
    "id": "IGTRJ3PW_aSo",
    "outputId": "6d48d607-84d5-4e3f-9b5f-bf5e425afb9b",
    "scrolled": false
   },
   "outputs": [
    {
     "data": {
      "text/plain": [
       "Text(0.5, 1.0, 'Lama Berlangganan')"
      ]
     },
     "execution_count": 15,
     "metadata": {},
     "output_type": "execute_result"
    },
    {
     "data": {
      "image/png": "[encoded data removed]",
      "text/plain": [
       "<Figure size 720x360 with 2 Axes>"
      ]
     },
     "metadata": {
      "needs_background": "light"
     },
     "output_type": "display_data"
    }
   ],
   "source": [
    "fig, (g1, g2) = plt.subplots(1,2)\n",
    "fig.suptitle(\"Box Plot masing-masing atribut\")\n",
    "fig.set_size_inches(10,5)\n",
    "g1.boxplot(df_raw_train.dropna(how=\"any\")[\"Umur\"])\n",
    "g1.set_title(\"Umur\")\n",
    "g2.boxplot(df_raw_train.dropna(how=\"any\")[\"Lama_Berlangganan\"])\n",
    "g2.set_title(\"Lama Berlangganan\")"
   ]
  },
  {
   "cell_type": "markdown",
   "metadata": {
    "id": "qApC0jkm_aSp"
   },
   "source": [
    "Nice.. tidak ada outlier walaupun dihilangkan NaN nya"
   ]
  },
  {
   "cell_type": "markdown",
   "metadata": {
    "id": "aJyJp8e2_aSp"
   },
   "source": [
    "## Analyzing Weird Attribute\n",
    "*An attribute that doesn't have any explanation or we just can't figure it out (lol)"
   ]
  },
  {
   "cell_type": "markdown",
   "metadata": {
    "id": "THdqbk1i_aSq"
   },
   "source": [
    "![](https://www.uth.tmc.edu/uth_orgs/educ_dev/oser/FIG1_1.GIF)"
   ]
  },
  {
   "cell_type": "code",
   "execution_count": 16,
   "metadata": {
    "executionInfo": {
     "elapsed": 23,
     "status": "ok",
     "timestamp": 1639013867812,
     "user": {
      "displayName": "Kaenova Mahendra Auditama",
      "photoUrl": "https://lh3.googleusercontent.com/a-/AOh14Gi1RKfxEOWo3OIlFm8PnyXZE9ZHeE2hrNOTSBDKYw=s64",
      "userId": "02421881994816586492"
     },
     "user_tz": -420
    },
    "id": "yAVSxaRo_aSq"
   },
   "outputs": [],
   "source": [
    "# Let's remove the NaN values in dataframe for better analyze \n",
    "\n",
    "df_train_analyze_all = df_raw_train.dropna(how=\"any\") # If we remove any nan value in any columns\n",
    "\n",
    "df_train_analyze_daerah = df_raw_train[\"Kode_Daerah\"].dropna(how=\"any\") # remove nan value in kode_daerah column\n",
    "df_test_analyze_daerah = df_raw_test[\"Kode_Daerah\"].dropna(how=\"any\")\n",
    "\n",
    "df_train_analyze_kanal = df_raw_train[\"Kanal_Penjualan\"].dropna(how=\"any\") # remove nan value in kanal_penjualan column\n",
    "df_test_analyze_kanal = df_raw_test[\"Kanal_Penjualan\"].dropna(how=\"any\")\n",
    "\n",
    "df_train_analyze_premi = df_raw_train[\"Premi\"].dropna(how=\"any\")"
   ]
  },
  {
   "cell_type": "code",
   "execution_count": 17,
   "metadata": {
    "colab": {
     "base_uri": "https://localhost:8080/"
    },
    "executionInfo": {
     "elapsed": 22,
     "status": "ok",
     "timestamp": 1639013867814,
     "user": {
      "displayName": "Kaenova Mahendra Auditama",
      "photoUrl": "https://lh3.googleusercontent.com/a-/AOh14Gi1RKfxEOWo3OIlFm8PnyXZE9ZHeE2hrNOTSBDKYw=s64",
      "userId": "02421881994816586492"
     },
     "user_tz": -420
    },
    "id": "_0y8MJhw_aSq",
    "outputId": "1f12d8f6-66e6-4fe9-a0bb-4163fb4a49b6"
   },
   "outputs": [
    {
     "data": {
      "text/plain": [
       "Index(['id', 'Jenis_Kelamin', 'Umur', 'SIM', 'Kode_Daerah', 'Sudah_Asuransi',\n",
       "       'Umur_Kendaraan', 'Kendaraan_Rusak', 'Premi', 'Kanal_Penjualan',\n",
       "       'Lama_Berlangganan', 'Tertarik'],\n",
       "      dtype='object')"
      ]
     },
     "execution_count": 17,
     "metadata": {},
     "output_type": "execute_result"
    }
   ],
   "source": [
    "df_train_analyze_all.columns"
   ]
  },
  {
   "cell_type": "code",
   "execution_count": 18,
   "metadata": {
    "executionInfo": {
     "elapsed": 14,
     "status": "ok",
     "timestamp": 1639013867816,
     "user": {
      "displayName": "Kaenova Mahendra Auditama",
      "photoUrl": "https://lh3.googleusercontent.com/a-/AOh14Gi1RKfxEOWo3OIlFm8PnyXZE9ZHeE2hrNOTSBDKYw=s64",
      "userId": "02421881994816586492"
     },
     "user_tz": -420
    },
    "id": "p--qV3VW_aSq"
   },
   "outputs": [],
   "source": [
    "categorical_cols = ['Jenis_Kelamin', 'SIM', 'Sudah_Asuransi', 'Kendaraan_Rusak', 'Tertarik']"
   ]
  },
  {
   "cell_type": "code",
   "execution_count": 19,
   "metadata": {
    "colab": {
     "base_uri": "https://localhost:8080/"
    },
    "executionInfo": {
     "elapsed": 4,
     "status": "ok",
     "timestamp": 1639013871422,
     "user": {
      "displayName": "Kaenova Mahendra Auditama",
      "photoUrl": "https://lh3.googleusercontent.com/a-/AOh14Gi1RKfxEOWo3OIlFm8PnyXZE9ZHeE2hrNOTSBDKYw=s64",
      "userId": "02421881994816586492"
     },
     "user_tz": -420
    },
    "id": "M5S-cE6n_aSq",
    "outputId": "67b917ab-8041-4949-decd-a9c0953013b6"
   },
   "outputs": [
    {
     "data": {
      "text/plain": [
       "array(['Tidak', 'Pernah'], dtype=object)"
      ]
     },
     "execution_count": 19,
     "metadata": {},
     "output_type": "execute_result"
    }
   ],
   "source": [
    "df_train_analyze_all[\"Kendaraan_Rusak\"].unique()"
   ]
  },
  {
   "cell_type": "code",
   "execution_count": 20,
   "metadata": {
    "executionInfo": {
     "elapsed": 5,
     "status": "ok",
     "timestamp": 1639013871424,
     "user": {
      "displayName": "Kaenova Mahendra Auditama",
      "photoUrl": "https://lh3.googleusercontent.com/a-/AOh14Gi1RKfxEOWo3OIlFm8PnyXZE9ZHeE2hrNOTSBDKYw=s64",
      "userId": "02421881994816586492"
     },
     "user_tz": -420
    },
    "id": "Azvl1CTx_aSr"
   },
   "outputs": [],
   "source": [
    "map_bruh = {\n",
    "    \"Kendaraan_Rusak\" : {\n",
    "        \"Tidak\" : 0,\n",
    "        \"Pernah\" : 1\n",
    "    }\n",
    "}\n",
    "test = df_train_analyze_all.replace(map_bruh)"
   ]
  },
  {
   "cell_type": "markdown",
   "metadata": {
    "id": "i5cyN5ca_aSr"
   },
   "source": [
    "### Kode Daerah\n",
    "Dari namanya, bisa kita sebutkan bahwa ini sebuah qualitative (nominal) atribut(?).  \n",
    "let's try to treat it as it is"
   ]
  },
  {
   "cell_type": "code",
   "execution_count": 21,
   "metadata": {
    "colab": {
     "base_uri": "https://localhost:8080/",
     "height": 334
    },
    "executionInfo": {
     "elapsed": 6,
     "status": "ok",
     "timestamp": 1639013872040,
     "user": {
      "displayName": "Kaenova Mahendra Auditama",
      "photoUrl": "https://lh3.googleusercontent.com/a-/AOh14Gi1RKfxEOWo3OIlFm8PnyXZE9ZHeE2hrNOTSBDKYw=s64",
      "userId": "02421881994816586492"
     },
     "user_tz": -420
    },
    "id": "9hh90NQ-_aSs",
    "outputId": "64cb2699-b057-4d87-ee41-75759f822d8e",
    "scrolled": false
   },
   "outputs": [
    {
     "data": {
      "text/plain": [
       "(array([13907., 36260., 24514.,  9413.,  8844., 97287., 19907., 22614.,\n",
       "        21052., 17727.]),\n",
       " array([ 0. ,  5.2, 10.4, 15.6, 20.8, 26. , 31.2, 36.4, 41.6, 46.8, 52. ]),\n",
       " <BarContainer object of 10 artists>)"
      ]
     },
     "execution_count": 21,
     "metadata": {},
     "output_type": "execute_result"
    },
    {
     "data": {
      "image/png": "[encoded data removed]",
      "text/plain": [
       "<Figure size 432x288 with 1 Axes>"
      ]
     },
     "metadata": {
      "needs_background": "light"
     },
     "output_type": "display_data"
    }
   ],
   "source": [
    "plt.hist(df_train_analyze_daerah)"
   ]
  },
  {
   "cell_type": "code",
   "execution_count": 22,
   "metadata": {
    "colab": {
     "base_uri": "https://localhost:8080/",
     "height": 334
    },
    "executionInfo": {
     "elapsed": 1429,
     "status": "ok",
     "timestamp": 1639013874334,
     "user": {
      "displayName": "Kaenova Mahendra Auditama",
      "photoUrl": "https://lh3.googleusercontent.com/a-/AOh14Gi1RKfxEOWo3OIlFm8PnyXZE9ZHeE2hrNOTSBDKYw=s64",
      "userId": "02421881994816586492"
     },
     "user_tz": -420
    },
    "id": "k2ic-zae_aSs",
    "outputId": "300a781a-8e39-43c3-f69c-917bece6e43a"
   },
   "outputs": [
    {
     "data": {
      "text/plain": [
       "(array([ 8766., 22877., 15401.,  5911.,  5615., 61164., 12612., 14237.,\n",
       "        13283., 11202.]),\n",
       " array([ 0. ,  5.2, 10.4, 15.6, 20.8, 26. , 31.2, 36.4, 41.6, 46.8, 52. ]),\n",
       " <BarContainer object of 10 artists>)"
      ]
     },
     "execution_count": 22,
     "metadata": {},
     "output_type": "execute_result"
    },
    {
     "data": {
      "image/png": "[encoded data removed]",
      "text/plain": [
       "<Figure size 432x288 with 1 Axes>"
      ]
     },
     "metadata": {
      "needs_background": "light"
     },
     "output_type": "display_data"
    }
   ],
   "source": [
    "plt.hist(df_train_analyze_all[\"Kode_Daerah\"])"
   ]
  },
  {
   "cell_type": "code",
   "execution_count": 23,
   "metadata": {
    "colab": {
     "base_uri": "https://localhost:8080/",
     "height": 334
    },
    "executionInfo": {
     "elapsed": 34,
     "status": "ok",
     "timestamp": 1639013874335,
     "user": {
      "displayName": "Kaenova Mahendra Auditama",
      "photoUrl": "https://lh3.googleusercontent.com/a-/AOh14Gi1RKfxEOWo3OIlFm8PnyXZE9ZHeE2hrNOTSBDKYw=s64",
      "userId": "02421881994816586492"
     },
     "user_tz": -420
    },
    "id": "9dh76WWf_aSs",
    "outputId": "6e8812ca-a561-4908-92da-d85f4be19db6",
    "scrolled": false
   },
   "outputs": [
    {
     "data": {
      "text/plain": [
       "(array([ 2412.,  6385.,  4379.,  1666.,  1558., 17125.,  3500.,  3945.,\n",
       "         3632.,  3037.]),\n",
       " array([ 0. ,  5.2, 10.4, 15.6, 20.8, 26. , 31.2, 36.4, 41.6, 46.8, 52. ]),\n",
       " <BarContainer object of 10 artists>)"
      ]
     },
     "execution_count": 23,
     "metadata": {},
     "output_type": "execute_result"
    },
    {
     "data": {
      "image/png": "[encoded data removed]",
      "text/plain": [
       "<Figure size 432x288 with 1 Axes>"
      ]
     },
     "metadata": {
      "needs_background": "light"
     },
     "output_type": "display_data"
    }
   ],
   "source": [
    "plt.hist(df_test_analyze_daerah)"
   ]
  },
  {
   "cell_type": "code",
   "execution_count": 24,
   "metadata": {
    "colab": {
     "base_uri": "https://localhost:8080/"
    },
    "executionInfo": {
     "elapsed": 29,
     "status": "ok",
     "timestamp": 1639013874336,
     "user": {
      "displayName": "Kaenova Mahendra Auditama",
      "photoUrl": "https://lh3.googleusercontent.com/a-/AOh14Gi1RKfxEOWo3OIlFm8PnyXZE9ZHeE2hrNOTSBDKYw=s64",
      "userId": "02421881994816586492"
     },
     "user_tz": -420
    },
    "id": "Finq7jf-_aSs",
    "outputId": "d6bf717e-ca08-4ac1-ea46-0a7d2690c7e7",
    "scrolled": false
   },
   "outputs": [
    {
     "data": {
      "text/plain": [
       "array([ 0.,  1.,  2.,  3.,  4.,  5.,  6.,  7.,  8.,  9., 10., 11., 12.,\n",
       "       13., 14., 15., 16., 17., 18., 19., 20., 21., 22., 23., 24., 25.,\n",
       "       26., 27., 28., 29., 30., 31., 32., 33., 34., 35., 36., 37., 38.,\n",
       "       39., 40., 41., 42., 43., 44., 45., 46., 47., 48., 49., 50., 51.,\n",
       "       52.])"
      ]
     },
     "execution_count": 24,
     "metadata": {},
     "output_type": "execute_result"
    }
   ],
   "source": [
    "np.sort(df_train_analyze_daerah.unique())"
   ]
  },
  {
   "cell_type": "code",
   "execution_count": 25,
   "metadata": {
    "colab": {
     "base_uri": "https://localhost:8080/"
    },
    "executionInfo": {
     "elapsed": 25,
     "status": "ok",
     "timestamp": 1639013874336,
     "user": {
      "displayName": "Kaenova Mahendra Auditama",
      "photoUrl": "https://lh3.googleusercontent.com/a-/AOh14Gi1RKfxEOWo3OIlFm8PnyXZE9ZHeE2hrNOTSBDKYw=s64",
      "userId": "02421881994816586492"
     },
     "user_tz": -420
    },
    "id": "-SOXsmMh_aSs",
    "outputId": "62c3010a-2a1b-4daf-c3bb-6668c4bf4bd1"
   },
   "outputs": [
    {
     "data": {
      "text/plain": [
       "array([ 0.,  1.,  2.,  3.,  4.,  5.,  6.,  7.,  8.,  9., 10., 11., 12.,\n",
       "       13., 14., 15., 16., 17., 18., 19., 20., 21., 22., 23., 24., 25.,\n",
       "       26., 27., 28., 29., 30., 31., 32., 33., 34., 35., 36., 37., 38.,\n",
       "       39., 40., 41., 42., 43., 44., 45., 46., 47., 48., 49., 50., 51.,\n",
       "       52.])"
      ]
     },
     "execution_count": 25,
     "metadata": {},
     "output_type": "execute_result"
    }
   ],
   "source": [
    "np.sort(df_train_analyze_all[\"Kode_Daerah\"].unique())"
   ]
  },
  {
   "cell_type": "markdown",
   "metadata": {
    "id": "0aOM5YHn_aSt"
   },
   "source": [
    "Bisa diambil kesimpulan bahwa kita bisa menganggap atribut ini sebagai atribut Categorical, selain itu kita bisa melakukan One Hot Encoding terhadap atribut ini, dikarenakan distribusi dari atribnut ini serupa dan bisa di intuisikan bahwa setiap nilai memiliki \"beratnya tersendiri.\" Hal ini kami bisa anggap aman karena pada data testing pun memiliki distribusi yang serupa walaupun pada setiap kolom jika ada nilai null dan dihapus."
   ]
  },
  {
   "cell_type": "markdown",
   "metadata": {
    "id": "4aOypswO_aSt"
   },
   "source": [
    "### Premi\n",
    "First of all, what is Premi even means?  \n",
    "In KBBI (https://kbbi.kemdikbud.go.id/entri/premi) we can conclude that premi is quantitative attribute(?)  \n",
    "1. n hadiah (uang dan sebagainya) yang diberikan sebagai perangsang untuk meningkatkan prestasi kerja\n",
    "2. n hadiah (dalam undian, perlombaan, pembelian)\n",
    "3. n jumlah uang yang harus dibayarkan pada waktu tertentu kepada asuransi sosial: -- asuransi\n",
    "\n",
    "  \n",
    "With this, let's try to treat it as quantitative attribute"
   ]
  },
  {
   "cell_type": "code",
   "execution_count": 26,
   "metadata": {
    "colab": {
     "base_uri": "https://localhost:8080/"
    },
    "executionInfo": {
     "elapsed": 21,
     "status": "ok",
     "timestamp": 1639013874337,
     "user": {
      "displayName": "Kaenova Mahendra Auditama",
      "photoUrl": "https://lh3.googleusercontent.com/a-/AOh14Gi1RKfxEOWo3OIlFm8PnyXZE9ZHeE2hrNOTSBDKYw=s64",
      "userId": "02421881994816586492"
     },
     "user_tz": -420
    },
    "id": "0oilHzj2_aSt",
    "outputId": "de7573e5-86e3-481f-e378-4da7a6c97be7"
   },
   "outputs": [
    {
     "data": {
      "text/plain": [
       "array([0.])"
      ]
     },
     "execution_count": 26,
     "metadata": {},
     "output_type": "execute_result"
    }
   ],
   "source": [
    "# Let's see if it's a float data or numerical data\n",
    "np.unique(df_train_analyze_premi.unique() % 1)"
   ]
  },
  {
   "cell_type": "markdown",
   "metadata": {
    "id": "eC5OuM8T_aSt"
   },
   "source": [
    "Setelah dilihat, setiap nilai jika di modulus kan dengan nilai 1, semua hasil elemennya ialah 0. Sehingga bisa disimpulkan ini merupakan data numerical non floating (integer)."
   ]
  },
  {
   "cell_type": "code",
   "execution_count": 27,
   "metadata": {
    "colab": {
     "base_uri": "https://localhost:8080/"
    },
    "executionInfo": {
     "elapsed": 18,
     "status": "ok",
     "timestamp": 1639013874338,
     "user": {
      "displayName": "Kaenova Mahendra Auditama",
      "photoUrl": "https://lh3.googleusercontent.com/a-/AOh14Gi1RKfxEOWo3OIlFm8PnyXZE9ZHeE2hrNOTSBDKYw=s64",
      "userId": "02421881994816586492"
     },
     "user_tz": -420
    },
    "id": "6Hzl3rA9_aSt",
    "outputId": "117d2730-3d8e-4d62-f24c-73083877f5f7",
    "scrolled": true
   },
   "outputs": [
    {
     "data": {
      "text/plain": [
       "id                   0.002145\n",
       "Umur                 0.063838\n",
       "SIM                 -0.012864\n",
       "Kode_Daerah         -0.012462\n",
       "Sudah_Asuransi       0.003988\n",
       "Premi                1.000000\n",
       "Kanal_Penjualan     -0.112297\n",
       "Lama_Berlangganan   -0.001260\n",
       "Tertarik             0.021890\n",
       "Name: Premi, dtype: float64"
      ]
     },
     "execution_count": 27,
     "metadata": {},
     "output_type": "execute_result"
    }
   ],
   "source": [
    "# Let's see the correlation between the any other variables\n",
    "df_train_analyze_all.corr()[\"Premi\"]"
   ]
  },
  {
   "cell_type": "code",
   "execution_count": 28,
   "metadata": {
    "executionInfo": {
     "elapsed": 16,
     "status": "ok",
     "timestamp": 1639013874940,
     "user": {
      "displayName": "Kaenova Mahendra Auditama",
      "photoUrl": "https://lh3.googleusercontent.com/a-/AOh14Gi1RKfxEOWo3OIlFm8PnyXZE9ZHeE2hrNOTSBDKYw=s64",
      "userId": "02421881994816586492"
     },
     "user_tz": -420
    },
    "id": "HLy2KoYH_aSu"
   },
   "outputs": [],
   "source": [
    "# plt.scatter(df_train_analyze_all[\"Tertarik\"], df_train_analyze_all[\"Premi\"] )"
   ]
  },
  {
   "cell_type": "markdown",
   "metadata": {
    "id": "Jj5VIrdW_aSu"
   },
   "source": [
    "Feels like it doesn't have any correlation with any other quantitative attribute"
   ]
  },
  {
   "cell_type": "code",
   "execution_count": 29,
   "metadata": {
    "colab": {
     "base_uri": "https://localhost:8080/",
     "height": 404
    },
    "executionInfo": {
     "elapsed": 15,
     "status": "ok",
     "timestamp": 1639013874941,
     "user": {
      "displayName": "Kaenova Mahendra Auditama",
      "photoUrl": "https://lh3.googleusercontent.com/a-/AOh14Gi1RKfxEOWo3OIlFm8PnyXZE9ZHeE2hrNOTSBDKYw=s64",
      "userId": "02421881994816586492"
     },
     "user_tz": -420
    },
    "id": "6jqkVEji_aSu",
    "outputId": "ee397dcf-0620-4f25-ba2e-ed594a033caa",
    "scrolled": false
   },
   "outputs": [
    {
     "data": {
      "text/plain": [
       "{'whiskers': [<matplotlib.lines.Line2D at 0x7fb125261be0>,\n",
       "  <matplotlib.lines.Line2D at 0x7fb125261d90>],\n",
       " 'caps': [<matplotlib.lines.Line2D at 0x7fb1251f20a0>,\n",
       "  <matplotlib.lines.Line2D at 0x7fb1251f2370>],\n",
       " 'boxes': [<matplotlib.lines.Line2D at 0x7fb125261910>],\n",
       " 'medians': [<matplotlib.lines.Line2D at 0x7fb1251f2640>],\n",
       " 'fliers': [<matplotlib.lines.Line2D at 0x7fb1251f2910>],\n",
       " 'means': []}"
      ]
     },
     "execution_count": 29,
     "metadata": {},
     "output_type": "execute_result"
    },
    {
     "data": {
      "image/png": "[encoded data removed]",
      "text/plain": [
       "<Figure size 432x288 with 1 Axes>"
      ]
     },
     "metadata": {
      "needs_background": "light"
     },
     "output_type": "display_data"
    }
   ],
   "source": [
    "# Let's see how the premi looks like\n",
    "plt.boxplot(df_train_analyze_all[\"Premi\"])"
   ]
  },
  {
   "cell_type": "code",
   "execution_count": 30,
   "metadata": {
    "colab": {
     "base_uri": "https://localhost:8080/"
    },
    "executionInfo": {
     "elapsed": 12,
     "status": "ok",
     "timestamp": 1639013874942,
     "user": {
      "displayName": "Kaenova Mahendra Auditama",
      "photoUrl": "https://lh3.googleusercontent.com/a-/AOh14Gi1RKfxEOWo3OIlFm8PnyXZE9ZHeE2hrNOTSBDKYw=s64",
      "userId": "02421881994816586492"
     },
     "user_tz": -420
    },
    "id": "3xer__Nj_aSu",
    "outputId": "3983914e-2382-4e1a-f072-a19388e860f4",
    "scrolled": true
   },
   "outputs": [
    {
     "data": {
      "text/plain": [
       "count    271262.000000\n",
       "mean      30536.683472\n",
       "std       17155.000770\n",
       "min        2630.000000\n",
       "25%       24398.000000\n",
       "50%       31646.000000\n",
       "75%       39377.750000\n",
       "max      540165.000000\n",
       "Name: Premi, dtype: float64"
      ]
     },
     "execution_count": 30,
     "metadata": {},
     "output_type": "execute_result"
    }
   ],
   "source": [
    "df_train_analyze_premi.describe()"
   ]
  },
  {
   "cell_type": "code",
   "execution_count": 31,
   "metadata": {
    "colab": {
     "base_uri": "https://localhost:8080/"
    },
    "executionInfo": {
     "elapsed": 6,
     "status": "ok",
     "timestamp": 1639013875872,
     "user": {
      "displayName": "Kaenova Mahendra Auditama",
      "photoUrl": "https://lh3.googleusercontent.com/a-/AOh14Gi1RKfxEOWo3OIlFm8PnyXZE9ZHeE2hrNOTSBDKYw=s64",
      "userId": "02421881994816586492"
     },
     "user_tz": -420
    },
    "id": "rUpqKMXW_aSu",
    "outputId": "6c39abf5-2c78-4584-f7c7-dadeceb23aa8"
   },
   "outputs": [
    {
     "name": "stdout",
     "output_type": "stream",
     "text": [
      "Total data: 171068\n",
      "Not Outliers data: 85534\n"
     ]
    }
   ],
   "source": [
    "# Let's see if total data if we remove the outlier using inter-quartile range method\n",
    "print(\"Total data:\", len(df_train_analyze_all))\n",
    "df_train_analyze_all_premi = df_train_analyze_all[\"Premi\"]\n",
    "print(\"Not Outliers data:\", len(df_train_analyze_all_premi[(df_train_analyze_all_premi < df_train_analyze_all_premi.describe().loc[\"75%\"]) \\\n",
    "                           & (df_train_analyze_all_premi > df_train_analyze_all_premi.describe().loc[\"25%\"])]))"
   ]
  },
  {
   "cell_type": "markdown",
   "metadata": {
    "id": "fXVHu2lH_aSu"
   },
   "source": [
    "Wew berkurang 50%.  \n",
    "Mungkin biar aman, kita tidak perlu memasukkan Premi sebagai fitur model.  \n",
    "Mengapa?\n",
    "1. Data tidak bisa dianalisa dengan baik\n",
    "2. Nilai korelasi yang rendah dengan atribut-atribute lain.\n",
    "3. Ketika melakukan handling outlier terlalu mengurangi jumlah data\n",
    "\n",
    "FIX PREMI TIDAK USAH JADI FITUR - TDT Kaenova & Adi"
   ]
  },
  {
   "cell_type": "markdown",
   "metadata": {
    "id": "V1Ge7fgy_aSv"
   },
   "source": [
    "### Kanal Penjualan\n",
    "(synm.) Salur penjualan(?)  \n",
    "  \n",
    "Kalau dari kata-katanya tidak mungkin ini nilai quantitative, yang sangat memungkinkan ini merupakan qualitative dalam bentuk numerical dan tidak bersifat ordinal. Let's analyze it"
   ]
  },
  {
   "cell_type": "code",
   "execution_count": 32,
   "metadata": {
    "colab": {
     "base_uri": "https://localhost:8080/"
    },
    "executionInfo": {
     "elapsed": 11,
     "status": "ok",
     "timestamp": 1639013877153,
     "user": {
      "displayName": "Kaenova Mahendra Auditama",
      "photoUrl": "https://lh3.googleusercontent.com/a-/AOh14Gi1RKfxEOWo3OIlFm8PnyXZE9ZHeE2hrNOTSBDKYw=s64",
      "userId": "02421881994816586492"
     },
     "user_tz": -420
    },
    "id": "zZ18UDzw_aSv",
    "outputId": "9a4bd55e-68c0-4e95-e60c-3139f55202d7"
   },
   "outputs": [
    {
     "data": {
      "text/plain": [
       "array([0.])"
      ]
     },
     "execution_count": 32,
     "metadata": {},
     "output_type": "execute_result"
    }
   ],
   "source": [
    "# Let's see if it's a float data or numerical data\n",
    "np.unique(df_train_analyze_kanal.unique() % 1)"
   ]
  },
  {
   "cell_type": "markdown",
   "metadata": {
    "id": "eFuU1VIw_aSv"
   },
   "source": [
    "Okay.. it's a numerical non floating number. This strengthen the theory that it's a qualitative attribute"
   ]
  },
  {
   "cell_type": "code",
   "execution_count": 33,
   "metadata": {
    "executionInfo": {
     "elapsed": 9,
     "status": "ok",
     "timestamp": 1639013877154,
     "user": {
      "displayName": "Kaenova Mahendra Auditama",
      "photoUrl": "https://lh3.googleusercontent.com/a-/AOh14Gi1RKfxEOWo3OIlFm8PnyXZE9ZHeE2hrNOTSBDKYw=s64",
      "userId": "02421881994816586492"
     },
     "user_tz": -420
    },
    "id": "5jJIaoqO_aSv",
    "scrolled": false
   },
   "outputs": [],
   "source": [
    "train_kanal = np.sort(df_train_analyze_kanal.astype('int').unique())\n",
    "test_kanal = np.sort(df_test_analyze_kanal.unique())\n",
    "all_kanal = set(train_kanal.tolist()+ test_kanal.tolist())"
   ]
  },
  {
   "cell_type": "code",
   "execution_count": 34,
   "metadata": {
    "colab": {
     "base_uri": "https://localhost:8080/"
    },
    "executionInfo": {
     "elapsed": 9,
     "status": "ok",
     "timestamp": 1639013877155,
     "user": {
      "displayName": "Kaenova Mahendra Auditama",
      "photoUrl": "https://lh3.googleusercontent.com/a-/AOh14Gi1RKfxEOWo3OIlFm8PnyXZE9ZHeE2hrNOTSBDKYw=s64",
      "userId": "02421881994816586492"
     },
     "user_tz": -420
    },
    "id": "_1zzP5TwdalB",
    "outputId": "a024e5ba-aff2-4215-c108-ed75e6082883"
   },
   "outputs": [
    {
     "name": "stdout",
     "output_type": "stream",
     "text": [
      "[]\n",
      "[2, 6, 17, 27, 28, 50, 57, 69, 71, 74, 75, 82, 84, 100, 101, 110, 117, 123, 134, 137, 144]\n"
     ]
    },
    {
     "data": {
      "text/plain": [
       "21"
      ]
     },
     "execution_count": 34,
     "metadata": {},
     "output_type": "execute_result"
    }
   ],
   "source": [
    "not_in_train = []\n",
    "not_in_test = []\n",
    "for kanal in all_kanal:\n",
    "    if kanal not in train_kanal:\n",
    "        not_in_train.append(kanal)\n",
    "    if kanal not in test_kanal:\n",
    "        not_in_test.append(kanal)\n",
    "\n",
    "print(not_in_train)\n",
    "print(not_in_test)\n",
    "len(not_in_test)"
   ]
  },
  {
   "cell_type": "markdown",
   "metadata": {
    "id": "zKzi4enmeJ14"
   },
   "source": [
    "Pada data testing, ada beberapa kode kanal yang tidak ada. Ini harus diperhatikan jika ingin melakukan one hot encoding, artinya kita harus menambahka kolom-kolom kanal tersebut agar memiliki bentuk data yang sama"
   ]
  },
  {
   "cell_type": "code",
   "execution_count": 35,
   "metadata": {
    "colab": {
     "base_uri": "https://localhost:8080/"
    },
    "executionInfo": {
     "elapsed": 37,
     "status": "ok",
     "timestamp": 1639013878691,
     "user": {
      "displayName": "Kaenova Mahendra Auditama",
      "photoUrl": "https://lh3.googleusercontent.com/a-/AOh14Gi1RKfxEOWo3OIlFm8PnyXZE9ZHeE2hrNOTSBDKYw=s64",
      "userId": "02421881994816586492"
     },
     "user_tz": -420
    },
    "id": "rjhMfVM1hQPh",
    "outputId": "1e4cdc5c-5f67-4442-aff5-8dfcbfea9ac3"
   },
   "outputs": [
    {
     "data": {
      "text/plain": [
       "151077    33.0\n",
       "Name: Kanal_Penjualan, dtype: float64"
      ]
     },
     "execution_count": 35,
     "metadata": {},
     "output_type": "execute_result"
    }
   ],
   "source": [
    "df_train_analyze_kanal[df_train_analyze_kanal==33]"
   ]
  },
  {
   "cell_type": "code",
   "execution_count": 36,
   "metadata": {
    "colab": {
     "base_uri": "https://localhost:8080/"
    },
    "executionInfo": {
     "elapsed": 32,
     "status": "ok",
     "timestamp": 1639013878692,
     "user": {
      "displayName": "Kaenova Mahendra Auditama",
      "photoUrl": "https://lh3.googleusercontent.com/a-/AOh14Gi1RKfxEOWo3OIlFm8PnyXZE9ZHeE2hrNOTSBDKYw=s64",
      "userId": "02421881994816586492"
     },
     "user_tz": -420
    },
    "id": "BQLvZ374hcRq",
    "outputId": "9971e889-6bff-479e-e946-c9362d2c6851"
   },
   "outputs": [
    {
     "data": {
      "text/plain": [
       "id                      151078\n",
       "Jenis_Kelamin             Pria\n",
       "Umur                      43.0\n",
       "SIM                        1.0\n",
       "Kode_Daerah                NaN\n",
       "Sudah_Asuransi             0.0\n",
       "Umur_Kendaraan       1-2 Tahun\n",
       "Kendaraan_Rusak         Pernah\n",
       "Premi                   2630.0\n",
       "Kanal_Penjualan           33.0\n",
       "Lama_Berlangganan        235.0\n",
       "Tertarik                     0\n",
       "Name: 151077, dtype: object"
      ]
     },
     "execution_count": 36,
     "metadata": {},
     "output_type": "execute_result"
    }
   ],
   "source": [
    "df_raw_train.iloc[151077]"
   ]
  },
  {
   "cell_type": "markdown",
   "metadata": {
    "id": "xTh1OUYDhj5E"
   },
   "source": [
    "Ada 1 dan bakal ilang sama drop NaN"
   ]
  },
  {
   "cell_type": "code",
   "execution_count": 37,
   "metadata": {
    "colab": {
     "base_uri": "https://localhost:8080/",
     "height": 282
    },
    "executionInfo": {
     "elapsed": 1391,
     "status": "ok",
     "timestamp": 1639013880067,
     "user": {
      "displayName": "Kaenova Mahendra Auditama",
      "photoUrl": "https://lh3.googleusercontent.com/a-/AOh14Gi1RKfxEOWo3OIlFm8PnyXZE9ZHeE2hrNOTSBDKYw=s64",
      "userId": "02421881994816586492"
     },
     "user_tz": -420
    },
    "id": "L1Ar2fsf_aSw",
    "outputId": "38c0ae1a-f8b5-44ec-8236-dfd4582536f7",
    "scrolled": true
   },
   "outputs": [
    {
     "data": {
      "text/plain": [
       "<matplotlib.collections.PathCollection at 0x7fb125428e50>"
      ]
     },
     "execution_count": 37,
     "metadata": {},
     "output_type": "execute_result"
    },
    {
     "data": {
      "image/png": "[encoded data removed]",
      "text/plain": [
       "<Figure size 432x288 with 1 Axes>"
      ]
     },
     "metadata": {
      "needs_background": "light"
     },
     "output_type": "display_data"
    }
   ],
   "source": [
    "plt.scatter(df_train_analyze_all[\"Kanal_Penjualan\"], df_train_analyze_all[\"Kode_Daerah\"])"
   ]
  },
  {
   "cell_type": "markdown",
   "metadata": {
    "id": "OwYK-_Lh_aSw"
   },
   "source": [
    "Ambil contoh 1 sample, Kanal Penjualan \"160\" ada pada semua daerah. Artinya Kanal Penjualan tidak bisa dihubungkan dengan daerahnya. Sehingga kanal penjualan tidak terpaku pada daerahnya maisng-masing.  "
   ]
  },
  {
   "cell_type": "code",
   "execution_count": 38,
   "metadata": {
    "colab": {
     "base_uri": "https://localhost:8080/",
     "height": 282
    },
    "executionInfo": {
     "elapsed": 22,
     "status": "ok",
     "timestamp": 1639013886497,
     "user": {
      "displayName": "Kaenova Mahendra Auditama",
      "photoUrl": "https://lh3.googleusercontent.com/a-/AOh14Gi1RKfxEOWo3OIlFm8PnyXZE9ZHeE2hrNOTSBDKYw=s64",
      "userId": "02421881994816586492"
     },
     "user_tz": -420
    },
    "id": "9hRDoKWj_aSw",
    "outputId": "9a170041-193f-4d3a-ee62-48f2c8bef4c7"
   },
   "outputs": [
    {
     "data": {
      "text/plain": [
       "<matplotlib.collections.PathCollection at 0x7fb1252c7820>"
      ]
     },
     "execution_count": 38,
     "metadata": {},
     "output_type": "execute_result"
    },
    {
     "data": {
      "image/png": "[encoded data removed]",
      "text/plain": [
       "<Figure size 432x288 with 1 Axes>"
      ]
     },
     "metadata": {
      "needs_background": "light"
     },
     "output_type": "display_data"
    }
   ],
   "source": [
    "plt.scatter(df_train_analyze_all[\"Kanal_Penjualan\"], df_train_analyze_all[\"Lama_Berlangganan\"])"
   ]
  },
  {
   "cell_type": "markdown",
   "metadata": {
    "id": "v1mN--aq_aSx"
   },
   "source": [
    "Disini kami bisa menyimpulkan bahwa ini merupakan atribut ini merupakan variable qualitative non ordinal.\n",
    "1. Tidak ada nilai koma, nilai koma sangat jarang dipakai pada nilai qualitative ataupun atribut kategorikal.\n",
    "2. Ada beberapa nilai yang tidak ada dalam range nilai tersebut, diantaranya [5, 41, 43, 72, 77, 85, 141, 142, 143, 149, 161, 162,] Hal ini sangat wajar dalam atribut kategorikal yang belum tentu angka numerik harus terisi semua dalam range nya."
   ]
  },
  {
   "cell_type": "markdown",
   "metadata": {
    "id": "8Ausqes9_aSx"
   },
   "source": [
    "## So Far...\n",
    "Atribut yang digunakan:\n",
    "1. Categorical: ['Jenis_Kelamin', 'SIM', 'Sudah_Asuransi', 'Umur_Kendaraan', 'Kendaraan_Rusak', 'Kanal_Penjualan']\n",
    "2. Numerical:  ['Umur', 'Lama_Berlangganan']"
   ]
  },
  {
   "cell_type": "code",
   "execution_count": 39,
   "metadata": {
    "executionInfo": {
     "elapsed": 17,
     "status": "ok",
     "timestamp": 1639013887604,
     "user": {
      "displayName": "Kaenova Mahendra Auditama",
      "photoUrl": "https://lh3.googleusercontent.com/a-/AOh14Gi1RKfxEOWo3OIlFm8PnyXZE9ZHeE2hrNOTSBDKYw=s64",
      "userId": "02421881994816586492"
     },
     "user_tz": -420
    },
    "id": "EZRWQyJI_aSx"
   },
   "outputs": [],
   "source": [
    "df_train_drop = df_train_analyze_all.drop(axis=1, columns=[\"id\", \"Premi\"])\n",
    "df_train_target = df_train_analyze_all[\"Tertarik\"]"
   ]
  },
  {
   "cell_type": "code",
   "execution_count": 40,
   "metadata": {
    "colab": {
     "base_uri": "https://localhost:8080/"
    },
    "executionInfo": {
     "elapsed": 16,
     "status": "ok",
     "timestamp": 1639013887607,
     "user": {
      "displayName": "Kaenova Mahendra Auditama",
      "photoUrl": "https://lh3.googleusercontent.com/a-/AOh14Gi1RKfxEOWo3OIlFm8PnyXZE9ZHeE2hrNOTSBDKYw=s64",
      "userId": "02421881994816586492"
     },
     "user_tz": -420
    },
    "id": "wC6IAmGS_aSx",
    "outputId": "65c0452a-8063-4efd-b8f3-4913fee50a93"
   },
   "outputs": [
    {
     "name": "stdout",
     "output_type": "stream",
     "text": [
      "Jenis_Kelamin ['Wanita' 'Pria']\n",
      "SIM [1. 0.]\n",
      "Sudah_Asuransi [1. 0.]\n",
      "Umur_Kendaraan ['< 1 Tahun' '> 2 Tahun' '1-2 Tahun']\n",
      "Kendaraan_Rusak ['Tidak' 'Pernah']\n",
      "Kanal_Penjualan [152.  29. 124. 160. 145.  31.  26. 156. 122.  25.  11. 157.  30.   7.\n",
      " 154.  23.  14.  16. 151.   4.  52. 155.  24.  22. 163. 120.   8. 125.\n",
      "  12.   3.  94. 153. 131.  60.  47.  55.  10.  13. 150.  15.  18. 158.\n",
      "  37.  19.   1. 129. 147.  56.  61. 136.   9. 119. 138. 111.  35. 135.\n",
      "  65.  42.  21. 140.  64. 132.  48.  59. 139.  54. 108.  36.  44.  86.\n",
      " 148.  46.  95. 109. 113. 137.  75.  97. 123. 116. 103. 126. 130.  66.\n",
      " 128.  91.  78. 133. 159.  68.  63.  53. 121.  32. 127.  57.  93. 134.\n",
      " 114.  92.  87. 118. 106. 117. 110. 107.  88.  38.  76.  90.  20.  51.\n",
      "  96. 146.  83.  58.  84.  50.  98.  79.  89.  73.  80.  45.  28.  17.\n",
      "  49. 105.  40.  62.   2.  81. 100.  69.  71.  34.  67.  82. 102.  99.\n",
      " 101.  70. 115.  74.  39.]\n"
     ]
    }
   ],
   "source": [
    "for cols in  ['Jenis_Kelamin', 'SIM', 'Sudah_Asuransi', 'Umur_Kendaraan', 'Kendaraan_Rusak', 'Kanal_Penjualan']:\n",
    "    print(cols, df_train_drop[cols].unique())"
   ]
  },
  {
   "cell_type": "code",
   "execution_count": 41,
   "metadata": {
    "colab": {
     "base_uri": "https://localhost:8080/",
     "height": 424
    },
    "executionInfo": {
     "elapsed": 12,
     "status": "ok",
     "timestamp": 1639013888453,
     "user": {
      "displayName": "Kaenova Mahendra Auditama",
      "photoUrl": "https://lh3.googleusercontent.com/a-/AOh14Gi1RKfxEOWo3OIlFm8PnyXZE9ZHeE2hrNOTSBDKYw=s64",
      "userId": "02421881994816586492"
     },
     "user_tz": -420
    },
    "id": "ThLLoNvH_aSx",
    "outputId": "5df9f5cf-b156-44af-ea3c-a1d1be161dea",
    "scrolled": true
   },
   "outputs": [
    {
     "data": {
      "text/html": [
       "<div>\n",
       "<style scoped>\n",
       "    .dataframe tbody tr th:only-of-type {\n",
       "        vertical-align: middle;\n",
       "    }\n",
       "\n",
       "    .dataframe tbody tr th {\n",
       "        vertical-align: top;\n",
       "    }\n",
       "\n",
       "    .dataframe thead th {\n",
       "        text-align: right;\n",
       "    }\n",
       "</style>\n",
       "<table border=\"1\" class=\"dataframe\">\n",
       "  <thead>\n",
       "    <tr style=\"text-align: right;\">\n",
       "      <th></th>\n",
       "      <th>Jenis_Kelamin</th>\n",
       "      <th>Umur</th>\n",
       "      <th>SIM</th>\n",
       "      <th>Kode_Daerah</th>\n",
       "      <th>Sudah_Asuransi</th>\n",
       "      <th>Umur_Kendaraan</th>\n",
       "      <th>Kendaraan_Rusak</th>\n",
       "      <th>Kanal_Penjualan</th>\n",
       "      <th>Lama_Berlangganan</th>\n",
       "      <th>Tertarik</th>\n",
       "    </tr>\n",
       "  </thead>\n",
       "  <tbody>\n",
       "    <tr>\n",
       "      <th>0</th>\n",
       "      <td>0</td>\n",
       "      <td>30</td>\n",
       "      <td>1</td>\n",
       "      <td>33</td>\n",
       "      <td>1</td>\n",
       "      <td>0</td>\n",
       "      <td>0</td>\n",
       "      <td>152</td>\n",
       "      <td>97.0</td>\n",
       "      <td>0</td>\n",
       "    </tr>\n",
       "    <tr>\n",
       "      <th>1</th>\n",
       "      <td>1</td>\n",
       "      <td>48</td>\n",
       "      <td>1</td>\n",
       "      <td>39</td>\n",
       "      <td>0</td>\n",
       "      <td>2</td>\n",
       "      <td>1</td>\n",
       "      <td>29</td>\n",
       "      <td>158.0</td>\n",
       "      <td>0</td>\n",
       "    </tr>\n",
       "    <tr>\n",
       "      <th>3</th>\n",
       "      <td>0</td>\n",
       "      <td>58</td>\n",
       "      <td>1</td>\n",
       "      <td>48</td>\n",
       "      <td>0</td>\n",
       "      <td>1</td>\n",
       "      <td>0</td>\n",
       "      <td>124</td>\n",
       "      <td>63.0</td>\n",
       "      <td>0</td>\n",
       "    </tr>\n",
       "    <tr>\n",
       "      <th>5</th>\n",
       "      <td>1</td>\n",
       "      <td>21</td>\n",
       "      <td>1</td>\n",
       "      <td>35</td>\n",
       "      <td>1</td>\n",
       "      <td>0</td>\n",
       "      <td>0</td>\n",
       "      <td>152</td>\n",
       "      <td>171.0</td>\n",
       "      <td>0</td>\n",
       "    </tr>\n",
       "    <tr>\n",
       "      <th>8</th>\n",
       "      <td>0</td>\n",
       "      <td>20</td>\n",
       "      <td>1</td>\n",
       "      <td>8</td>\n",
       "      <td>1</td>\n",
       "      <td>0</td>\n",
       "      <td>0</td>\n",
       "      <td>160</td>\n",
       "      <td>31.0</td>\n",
       "      <td>0</td>\n",
       "    </tr>\n",
       "    <tr>\n",
       "      <th>...</th>\n",
       "      <td>...</td>\n",
       "      <td>...</td>\n",
       "      <td>...</td>\n",
       "      <td>...</td>\n",
       "      <td>...</td>\n",
       "      <td>...</td>\n",
       "      <td>...</td>\n",
       "      <td>...</td>\n",
       "      <td>...</td>\n",
       "      <td>...</td>\n",
       "    </tr>\n",
       "    <tr>\n",
       "      <th>285826</th>\n",
       "      <td>0</td>\n",
       "      <td>23</td>\n",
       "      <td>1</td>\n",
       "      <td>4</td>\n",
       "      <td>1</td>\n",
       "      <td>0</td>\n",
       "      <td>0</td>\n",
       "      <td>152</td>\n",
       "      <td>217.0</td>\n",
       "      <td>0</td>\n",
       "    </tr>\n",
       "    <tr>\n",
       "      <th>285827</th>\n",
       "      <td>0</td>\n",
       "      <td>21</td>\n",
       "      <td>1</td>\n",
       "      <td>46</td>\n",
       "      <td>1</td>\n",
       "      <td>0</td>\n",
       "      <td>0</td>\n",
       "      <td>152</td>\n",
       "      <td>50.0</td>\n",
       "      <td>0</td>\n",
       "    </tr>\n",
       "    <tr>\n",
       "      <th>285828</th>\n",
       "      <td>0</td>\n",
       "      <td>23</td>\n",
       "      <td>1</td>\n",
       "      <td>50</td>\n",
       "      <td>1</td>\n",
       "      <td>0</td>\n",
       "      <td>0</td>\n",
       "      <td>152</td>\n",
       "      <td>226.0</td>\n",
       "      <td>0</td>\n",
       "    </tr>\n",
       "    <tr>\n",
       "      <th>285829</th>\n",
       "      <td>1</td>\n",
       "      <td>68</td>\n",
       "      <td>1</td>\n",
       "      <td>7</td>\n",
       "      <td>1</td>\n",
       "      <td>1</td>\n",
       "      <td>0</td>\n",
       "      <td>124</td>\n",
       "      <td>270.0</td>\n",
       "      <td>0</td>\n",
       "    </tr>\n",
       "    <tr>\n",
       "      <th>285830</th>\n",
       "      <td>1</td>\n",
       "      <td>45</td>\n",
       "      <td>1</td>\n",
       "      <td>28</td>\n",
       "      <td>0</td>\n",
       "      <td>1</td>\n",
       "      <td>1</td>\n",
       "      <td>26</td>\n",
       "      <td>44.0</td>\n",
       "      <td>0</td>\n",
       "    </tr>\n",
       "  </tbody>\n",
       "</table>\n",
       "<p>171068 rows × 10 columns</p>\n",
       "</div>"
      ],
      "text/plain": [
       "        Jenis_Kelamin  Umur  SIM  Kode_Daerah  Sudah_Asuransi  Umur_Kendaraan  \\\n",
       "0                   0    30    1           33               1               0   \n",
       "1                   1    48    1           39               0               2   \n",
       "3                   0    58    1           48               0               1   \n",
       "5                   1    21    1           35               1               0   \n",
       "8                   0    20    1            8               1               0   \n",
       "...               ...   ...  ...          ...             ...             ...   \n",
       "285826              0    23    1            4               1               0   \n",
       "285827              0    21    1           46               1               0   \n",
       "285828              0    23    1           50               1               0   \n",
       "285829              1    68    1            7               1               1   \n",
       "285830              1    45    1           28               0               1   \n",
       "\n",
       "        Kendaraan_Rusak  Kanal_Penjualan  Lama_Berlangganan  Tertarik  \n",
       "0                     0              152               97.0         0  \n",
       "1                     1               29              158.0         0  \n",
       "3                     0              124               63.0         0  \n",
       "5                     0              152              171.0         0  \n",
       "8                     0              160               31.0         0  \n",
       "...                 ...              ...                ...       ...  \n",
       "285826                0              152              217.0         0  \n",
       "285827                0              152               50.0         0  \n",
       "285828                0              152              226.0         0  \n",
       "285829                0              124              270.0         0  \n",
       "285830                1               26               44.0         0  \n",
       "\n",
       "[171068 rows x 10 columns]"
      ]
     },
     "execution_count": 41,
     "metadata": {},
     "output_type": "execute_result"
    }
   ],
   "source": [
    "map_categorical = {\n",
    "    \"Jenis_Kelamin\": {\n",
    "        \"Wanita\" : 0,\n",
    "        \"Pria\" : 1\n",
    "    },\n",
    "    \"Kendaraan_Rusak\" : {\n",
    "        \"Tidak\" : 0,\n",
    "        \"Pernah\" : 1\n",
    "    }, \n",
    "    \"Umur_Kendaraan\" : {\n",
    "        '< 1 Tahun' : 0,\n",
    "        '1-2 Tahun' : 1,\n",
    "        '> 2 Tahun' : 2\n",
    "    }\n",
    "}\n",
    "df_train_mapped = df_train_drop.replace(map_categorical)\n",
    "df_train_mapped[\"Kode_Daerah\"] = df_train_mapped[\"Kode_Daerah\"].astype(int) \n",
    "df_train_mapped[\"Umur\"] = df_train_mapped[\"Umur\"].astype(int) \n",
    "df_train_mapped[\"SIM\"] = df_train_mapped[\"SIM\"].astype(int) \n",
    "df_train_mapped[\"Kanal_Penjualan\"] = df_train_mapped[\"Kanal_Penjualan\"].astype(int) \n",
    "df_train_mapped[\"Sudah_Asuransi\"] = df_train_mapped[\"Sudah_Asuransi\"].astype(int) \n",
    "df_train_mapped"
   ]
  },
  {
   "cell_type": "markdown",
   "metadata": {
    "id": "Mhf-V6vr_aSy"
   },
   "source": [
    "### Correlation Numerical - Numerical\n",
    "Menggunakan Pearson"
   ]
  },
  {
   "cell_type": "code",
   "execution_count": 42,
   "metadata": {
    "colab": {
     "base_uri": "https://localhost:8080/",
     "height": 112
    },
    "executionInfo": {
     "elapsed": 6,
     "status": "ok",
     "timestamp": 1639013890496,
     "user": {
      "displayName": "Kaenova Mahendra Auditama",
      "photoUrl": "https://lh3.googleusercontent.com/a-/AOh14Gi1RKfxEOWo3OIlFm8PnyXZE9ZHeE2hrNOTSBDKYw=s64",
      "userId": "02421881994816586492"
     },
     "user_tz": -420
    },
    "id": "UlMPvc8K_aSy",
    "outputId": "b6f2f802-7de7-4c9e-adf7-dd236f59393b",
    "scrolled": true
   },
   "outputs": [
    {
     "data": {
      "text/html": [
       "<div>\n",
       "<style scoped>\n",
       "    .dataframe tbody tr th:only-of-type {\n",
       "        vertical-align: middle;\n",
       "    }\n",
       "\n",
       "    .dataframe tbody tr th {\n",
       "        vertical-align: top;\n",
       "    }\n",
       "\n",
       "    .dataframe thead th {\n",
       "        text-align: right;\n",
       "    }\n",
       "</style>\n",
       "<table border=\"1\" class=\"dataframe\">\n",
       "  <thead>\n",
       "    <tr style=\"text-align: right;\">\n",
       "      <th></th>\n",
       "      <th>Umur</th>\n",
       "      <th>Lama_Berlangganan</th>\n",
       "    </tr>\n",
       "  </thead>\n",
       "  <tbody>\n",
       "    <tr>\n",
       "      <th>Umur</th>\n",
       "      <td>1.000000</td>\n",
       "      <td>-0.001032</td>\n",
       "    </tr>\n",
       "    <tr>\n",
       "      <th>Lama_Berlangganan</th>\n",
       "      <td>-0.001032</td>\n",
       "      <td>1.000000</td>\n",
       "    </tr>\n",
       "  </tbody>\n",
       "</table>\n",
       "</div>"
      ],
      "text/plain": [
       "                       Umur  Lama_Berlangganan\n",
       "Umur               1.000000          -0.001032\n",
       "Lama_Berlangganan -0.001032           1.000000"
      ]
     },
     "execution_count": 42,
     "metadata": {},
     "output_type": "execute_result"
    }
   ],
   "source": [
    "df_numerical = df_train_mapped[[\"Umur\", \"Lama_Berlangganan\"]]\n",
    "df_numerical.corr()"
   ]
  },
  {
   "cell_type": "markdown",
   "metadata": {
    "id": "SevvSUed_aSz"
   },
   "source": [
    "Hasil korelasi dari data antar numerical"
   ]
  },
  {
   "cell_type": "markdown",
   "metadata": {
    "id": "E0HNS-fz_aSz"
   },
   "source": [
    "### Correlation Categorical (Nominal) - Categorical (Nominal)\n",
    "Menggunakan Cramer's V\n",
    "https://en.wikipedia.org/wiki/Cram%C3%A9r%27s_V"
   ]
  },
  {
   "cell_type": "code",
   "execution_count": 43,
   "metadata": {
    "colab": {
     "base_uri": "https://localhost:8080/",
     "height": 269
    },
    "executionInfo": {
     "elapsed": 796,
     "status": "ok",
     "timestamp": 1639013892072,
     "user": {
      "displayName": "Kaenova Mahendra Auditama",
      "photoUrl": "https://lh3.googleusercontent.com/a-/AOh14Gi1RKfxEOWo3OIlFm8PnyXZE9ZHeE2hrNOTSBDKYw=s64",
      "userId": "02421881994816586492"
     },
     "user_tz": -420
    },
    "id": "7iQM_Knw_aS0",
    "outputId": "fe2f948b-ec50-4172-ece7-b4e57566978d",
    "scrolled": true
   },
   "outputs": [
    {
     "data": {
      "text/html": [
       "<div>\n",
       "<style scoped>\n",
       "    .dataframe tbody tr th:only-of-type {\n",
       "        vertical-align: middle;\n",
       "    }\n",
       "\n",
       "    .dataframe tbody tr th {\n",
       "        vertical-align: top;\n",
       "    }\n",
       "\n",
       "    .dataframe thead th {\n",
       "        text-align: right;\n",
       "    }\n",
       "</style>\n",
       "<table border=\"1\" class=\"dataframe\">\n",
       "  <thead>\n",
       "    <tr style=\"text-align: right;\">\n",
       "      <th></th>\n",
       "      <th>Jenis_Kelamin</th>\n",
       "      <th>SIM</th>\n",
       "      <th>Kode_Daerah</th>\n",
       "      <th>Sudah_Asuransi</th>\n",
       "      <th>Umur_Kendaraan</th>\n",
       "      <th>Kendaraan_Rusak</th>\n",
       "      <th>Kanal_Penjualan</th>\n",
       "    </tr>\n",
       "  </thead>\n",
       "  <tbody>\n",
       "    <tr>\n",
       "      <th>Jenis_Kelamin</th>\n",
       "      <td>1.00</td>\n",
       "      <td>0.0</td>\n",
       "      <td>0.01</td>\n",
       "      <td>0.01</td>\n",
       "      <td>0.03</td>\n",
       "      <td>0.01</td>\n",
       "      <td>0.04</td>\n",
       "    </tr>\n",
       "    <tr>\n",
       "      <th>SIM</th>\n",
       "      <td>0.00</td>\n",
       "      <td>1.0</td>\n",
       "      <td>0.00</td>\n",
       "      <td>0.00</td>\n",
       "      <td>0.00</td>\n",
       "      <td>0.00</td>\n",
       "      <td>0.00</td>\n",
       "    </tr>\n",
       "    <tr>\n",
       "      <th>Kode_Daerah</th>\n",
       "      <td>0.01</td>\n",
       "      <td>0.0</td>\n",
       "      <td>1.00</td>\n",
       "      <td>0.06</td>\n",
       "      <td>0.09</td>\n",
       "      <td>0.05</td>\n",
       "      <td>0.02</td>\n",
       "    </tr>\n",
       "    <tr>\n",
       "      <th>Sudah_Asuransi</th>\n",
       "      <td>0.01</td>\n",
       "      <td>0.0</td>\n",
       "      <td>0.06</td>\n",
       "      <td>1.00</td>\n",
       "      <td>0.15</td>\n",
       "      <td>0.68</td>\n",
       "      <td>0.20</td>\n",
       "    </tr>\n",
       "    <tr>\n",
       "      <th>Umur_Kendaraan</th>\n",
       "      <td>0.03</td>\n",
       "      <td>0.0</td>\n",
       "      <td>0.09</td>\n",
       "      <td>0.15</td>\n",
       "      <td>1.00</td>\n",
       "      <td>0.16</td>\n",
       "      <td>0.39</td>\n",
       "    </tr>\n",
       "    <tr>\n",
       "      <th>Kendaraan_Rusak</th>\n",
       "      <td>0.01</td>\n",
       "      <td>0.0</td>\n",
       "      <td>0.05</td>\n",
       "      <td>0.68</td>\n",
       "      <td>0.16</td>\n",
       "      <td>1.00</td>\n",
       "      <td>0.21</td>\n",
       "    </tr>\n",
       "    <tr>\n",
       "      <th>Kanal_Penjualan</th>\n",
       "      <td>0.04</td>\n",
       "      <td>0.0</td>\n",
       "      <td>0.02</td>\n",
       "      <td>0.20</td>\n",
       "      <td>0.39</td>\n",
       "      <td>0.21</td>\n",
       "      <td>1.00</td>\n",
       "    </tr>\n",
       "  </tbody>\n",
       "</table>\n",
       "</div>"
      ],
      "text/plain": [
       "                 Jenis_Kelamin  SIM  Kode_Daerah  Sudah_Asuransi  \\\n",
       "Jenis_Kelamin             1.00  0.0         0.01            0.01   \n",
       "SIM                       0.00  1.0         0.00            0.00   \n",
       "Kode_Daerah               0.01  0.0         1.00            0.06   \n",
       "Sudah_Asuransi            0.01  0.0         0.06            1.00   \n",
       "Umur_Kendaraan            0.03  0.0         0.09            0.15   \n",
       "Kendaraan_Rusak           0.01  0.0         0.05            0.68   \n",
       "Kanal_Penjualan           0.04  0.0         0.02            0.20   \n",
       "\n",
       "                 Umur_Kendaraan  Kendaraan_Rusak  Kanal_Penjualan  \n",
       "Jenis_Kelamin              0.03             0.01             0.04  \n",
       "SIM                        0.00             0.00             0.00  \n",
       "Kode_Daerah                0.09             0.05             0.02  \n",
       "Sudah_Asuransi             0.15             0.68             0.20  \n",
       "Umur_Kendaraan             1.00             0.16             0.39  \n",
       "Kendaraan_Rusak            0.16             1.00             0.21  \n",
       "Kanal_Penjualan            0.39             0.21             1.00  "
      ]
     },
     "execution_count": 43,
     "metadata": {},
     "output_type": "execute_result"
    }
   ],
   "source": [
    "# https://www.kaggle.com/chrisbss1/cramer-s-v-correlation-matrix\n",
    "\n",
    "categorical = ['Jenis_Kelamin', 'SIM', 'Kode_Daerah', 'Sudah_Asuransi', 'Umur_Kendaraan', 'Kendaraan_Rusak', 'Kanal_Penjualan']\n",
    "df_categorical = df_train_mapped[categorical]\n",
    "\n",
    "def cramers_V(var1,var2) :\n",
    "  crosstab =np.array(pd.crosstab(var1,var2, rownames=None, colnames=None)) # Cross table building\n",
    "  stat = chi2_contingency(crosstab)[0] # Keeping of the test statistic of the Chi2 test\n",
    "  obs = np.sum(crosstab) # Number of observations\n",
    "  mini = min(crosstab.shape)-1 # Take the minimum value between the columns and the rows of the cross table\n",
    "  return (stat/(obs*mini))\n",
    "\n",
    "rows= []\n",
    "\n",
    "for var1 in df_categorical:\n",
    "  col = []\n",
    "  for var2 in df_categorical :\n",
    "    cramers =cramers_V(df_categorical[var1], df_categorical[var2]) # Cramer's V test\n",
    "    col.append(round(cramers,2)) # Keeping of the rounded value of the Cramer's V  \n",
    "  rows.append(col)\n",
    "  \n",
    "cramers_results = np.array(rows)\n",
    "df_cramer = pd.DataFrame(cramers_results, columns = df_categorical.columns, index =df_categorical.columns)\n",
    "df_cramer"
   ]
  },
  {
   "cell_type": "markdown",
   "metadata": {
    "id": "eg9YjkyE_aS1"
   },
   "source": [
    "Hasil korelasi terbesar pada sudah asuransi dan kendaraan rusak."
   ]
  },
  {
   "cell_type": "markdown",
   "metadata": {
    "id": "_xRd_Twu_aS1"
   },
   "source": [
    "# Data Preprocessing\n",
    "\n",
    "Berdasarkan eksplorasi data yang kita temukan kami menyimpulkan beberapa poin:\n",
    "1. Atribut yang tidak dijadikan fitur dalam model kami: [id, Premi, Tertarik]\n",
    "2. Melakukan One Hot Encoding pada fitur categorical: ['Jenis_Kelamin', 'SIM', 'Sudah_Asuransi', 'Umur_Kendaraan', 'Kendaraan_Rusak', 'Kanal_Penjualan']. Perlu diperhatikan bahwa bentuk data kanal_penjualan tidak sama, harus membuat kolom kanal_penjualan dalam data test yang sama\n",
    "3. Melakukan MinMaxScaler pada fitur numerical: ['Umur', 'Lama_Berlangganan']\n",
    "4. Duplikat Data, Null Data\n",
    "  \n",
    "Jangan lupa preprocessing data testing"
   ]
  },
  {
   "cell_type": "code",
   "execution_count": 44,
   "metadata": {
    "executionInfo": {
     "elapsed": 8,
     "status": "ok",
     "timestamp": 1639013893353,
     "user": {
      "displayName": "Kaenova Mahendra Auditama",
      "photoUrl": "https://lh3.googleusercontent.com/a-/AOh14Gi1RKfxEOWo3OIlFm8PnyXZE9ZHeE2hrNOTSBDKYw=s64",
      "userId": "02421881994816586492"
     },
     "user_tz": -420
    },
    "id": "TczTY57_NOo_"
   },
   "outputs": [],
   "source": [
    "df_preprocess_train = df_raw_train.copy()\n",
    "df_preprocess_test = df_raw_test.copy()"
   ]
  },
  {
   "cell_type": "code",
   "execution_count": 45,
   "metadata": {
    "colab": {
     "base_uri": "https://localhost:8080/",
     "height": 206
    },
    "executionInfo": {
     "elapsed": 8,
     "status": "ok",
     "timestamp": 1639013893354,
     "user": {
      "displayName": "Kaenova Mahendra Auditama",
      "photoUrl": "https://lh3.googleusercontent.com/a-/AOh14Gi1RKfxEOWo3OIlFm8PnyXZE9ZHeE2hrNOTSBDKYw=s64",
      "userId": "02421881994816586492"
     },
     "user_tz": -420
    },
    "id": "MQM1Vz5FO14s",
    "outputId": "e94a0e01-04f8-4f67-a6fa-952b85f8540d"
   },
   "outputs": [
    {
     "data": {
      "text/html": [
       "<div>\n",
       "<style scoped>\n",
       "    .dataframe tbody tr th:only-of-type {\n",
       "        vertical-align: middle;\n",
       "    }\n",
       "\n",
       "    .dataframe tbody tr th {\n",
       "        vertical-align: top;\n",
       "    }\n",
       "\n",
       "    .dataframe thead th {\n",
       "        text-align: right;\n",
       "    }\n",
       "</style>\n",
       "<table border=\"1\" class=\"dataframe\">\n",
       "  <thead>\n",
       "    <tr style=\"text-align: right;\">\n",
       "      <th></th>\n",
       "      <th>id</th>\n",
       "      <th>Jenis_Kelamin</th>\n",
       "      <th>Umur</th>\n",
       "      <th>SIM</th>\n",
       "      <th>Kode_Daerah</th>\n",
       "      <th>Sudah_Asuransi</th>\n",
       "      <th>Umur_Kendaraan</th>\n",
       "      <th>Kendaraan_Rusak</th>\n",
       "      <th>Premi</th>\n",
       "      <th>Kanal_Penjualan</th>\n",
       "      <th>Lama_Berlangganan</th>\n",
       "      <th>Tertarik</th>\n",
       "    </tr>\n",
       "  </thead>\n",
       "  <tbody>\n",
       "    <tr>\n",
       "      <th>171267</th>\n",
       "      <td>171268</td>\n",
       "      <td>Pria</td>\n",
       "      <td>55.0</td>\n",
       "      <td>1.0</td>\n",
       "      <td>8.0</td>\n",
       "      <td>1.0</td>\n",
       "      <td>1-2 Tahun</td>\n",
       "      <td>Tidak</td>\n",
       "      <td>43507.0</td>\n",
       "      <td>124.0</td>\n",
       "      <td>287.0</td>\n",
       "      <td>0</td>\n",
       "    </tr>\n",
       "    <tr>\n",
       "      <th>239246</th>\n",
       "      <td>239247</td>\n",
       "      <td>Pria</td>\n",
       "      <td>46.0</td>\n",
       "      <td>1.0</td>\n",
       "      <td>28.0</td>\n",
       "      <td>0.0</td>\n",
       "      <td>1-2 Tahun</td>\n",
       "      <td>Pernah</td>\n",
       "      <td>33455.0</td>\n",
       "      <td>26.0</td>\n",
       "      <td>69.0</td>\n",
       "      <td>0</td>\n",
       "    </tr>\n",
       "    <tr>\n",
       "      <th>174596</th>\n",
       "      <td>174597</td>\n",
       "      <td>Pria</td>\n",
       "      <td>41.0</td>\n",
       "      <td>1.0</td>\n",
       "      <td>28.0</td>\n",
       "      <td>0.0</td>\n",
       "      <td>1-2 Tahun</td>\n",
       "      <td>Pernah</td>\n",
       "      <td>42689.0</td>\n",
       "      <td>124.0</td>\n",
       "      <td>170.0</td>\n",
       "      <td>0</td>\n",
       "    </tr>\n",
       "    <tr>\n",
       "      <th>115807</th>\n",
       "      <td>115808</td>\n",
       "      <td>Pria</td>\n",
       "      <td>NaN</td>\n",
       "      <td>NaN</td>\n",
       "      <td>31.0</td>\n",
       "      <td>0.0</td>\n",
       "      <td>1-2 Tahun</td>\n",
       "      <td>Pernah</td>\n",
       "      <td>2630.0</td>\n",
       "      <td>26.0</td>\n",
       "      <td>226.0</td>\n",
       "      <td>0</td>\n",
       "    </tr>\n",
       "    <tr>\n",
       "      <th>19169</th>\n",
       "      <td>19170</td>\n",
       "      <td>Wanita</td>\n",
       "      <td>23.0</td>\n",
       "      <td>1.0</td>\n",
       "      <td>23.0</td>\n",
       "      <td>NaN</td>\n",
       "      <td>&lt; 1 Tahun</td>\n",
       "      <td>Tidak</td>\n",
       "      <td>25627.0</td>\n",
       "      <td>152.0</td>\n",
       "      <td>71.0</td>\n",
       "      <td>0</td>\n",
       "    </tr>\n",
       "  </tbody>\n",
       "</table>\n",
       "</div>"
      ],
      "text/plain": [
       "            id Jenis_Kelamin  Umur  SIM  Kode_Daerah  Sudah_Asuransi  \\\n",
       "171267  171268          Pria  55.0  1.0          8.0             1.0   \n",
       "239246  239247          Pria  46.0  1.0         28.0             0.0   \n",
       "174596  174597          Pria  41.0  1.0         28.0             0.0   \n",
       "115807  115808          Pria   NaN  NaN         31.0             0.0   \n",
       "19169    19170        Wanita  23.0  1.0         23.0             NaN   \n",
       "\n",
       "       Umur_Kendaraan Kendaraan_Rusak    Premi  Kanal_Penjualan  \\\n",
       "171267      1-2 Tahun           Tidak  43507.0            124.0   \n",
       "239246      1-2 Tahun          Pernah  33455.0             26.0   \n",
       "174596      1-2 Tahun          Pernah  42689.0            124.0   \n",
       "115807      1-2 Tahun          Pernah   2630.0             26.0   \n",
       "19169       < 1 Tahun           Tidak  25627.0            152.0   \n",
       "\n",
       "        Lama_Berlangganan  Tertarik  \n",
       "171267              287.0         0  \n",
       "239246               69.0         0  \n",
       "174596              170.0         0  \n",
       "115807              226.0         0  \n",
       "19169                71.0         0  "
      ]
     },
     "execution_count": 45,
     "metadata": {},
     "output_type": "execute_result"
    }
   ],
   "source": [
    "df_preprocess_train.sample(5)"
   ]
  },
  {
   "cell_type": "code",
   "execution_count": 46,
   "metadata": {
    "colab": {
     "base_uri": "https://localhost:8080/",
     "height": 206
    },
    "executionInfo": {
     "elapsed": 6,
     "status": "ok",
     "timestamp": 1639013893982,
     "user": {
      "displayName": "Kaenova Mahendra Auditama",
      "photoUrl": "https://lh3.googleusercontent.com/a-/AOh14Gi1RKfxEOWo3OIlFm8PnyXZE9ZHeE2hrNOTSBDKYw=s64",
      "userId": "02421881994816586492"
     },
     "user_tz": -420
    },
    "id": "s32Ro84xO6vq",
    "outputId": "e9c923d0-ccf2-49f5-efec-d5a7e67d2287"
   },
   "outputs": [
    {
     "data": {
      "text/html": [
       "<div>\n",
       "<style scoped>\n",
       "    .dataframe tbody tr th:only-of-type {\n",
       "        vertical-align: middle;\n",
       "    }\n",
       "\n",
       "    .dataframe tbody tr th {\n",
       "        vertical-align: top;\n",
       "    }\n",
       "\n",
       "    .dataframe thead th {\n",
       "        text-align: right;\n",
       "    }\n",
       "</style>\n",
       "<table border=\"1\" class=\"dataframe\">\n",
       "  <thead>\n",
       "    <tr style=\"text-align: right;\">\n",
       "      <th></th>\n",
       "      <th>Jenis_Kelamin</th>\n",
       "      <th>Umur</th>\n",
       "      <th>SIM</th>\n",
       "      <th>Kode_Daerah</th>\n",
       "      <th>Sudah_Asuransi</th>\n",
       "      <th>Umur_Kendaraan</th>\n",
       "      <th>Kendaraan_Rusak</th>\n",
       "      <th>Premi</th>\n",
       "      <th>Kanal_Penjualan</th>\n",
       "      <th>Lama_Berlangganan</th>\n",
       "      <th>Tertarik</th>\n",
       "    </tr>\n",
       "  </thead>\n",
       "  <tbody>\n",
       "    <tr>\n",
       "      <th>17204</th>\n",
       "      <td>Wanita</td>\n",
       "      <td>49</td>\n",
       "      <td>1</td>\n",
       "      <td>15</td>\n",
       "      <td>0</td>\n",
       "      <td>1-2 Tahun</td>\n",
       "      <td>Pernah</td>\n",
       "      <td>29414</td>\n",
       "      <td>14</td>\n",
       "      <td>28</td>\n",
       "      <td>0</td>\n",
       "    </tr>\n",
       "    <tr>\n",
       "      <th>45554</th>\n",
       "      <td>Pria</td>\n",
       "      <td>22</td>\n",
       "      <td>1</td>\n",
       "      <td>8</td>\n",
       "      <td>0</td>\n",
       "      <td>&lt; 1 Tahun</td>\n",
       "      <td>Tidak</td>\n",
       "      <td>27806</td>\n",
       "      <td>152</td>\n",
       "      <td>184</td>\n",
       "      <td>0</td>\n",
       "    </tr>\n",
       "    <tr>\n",
       "      <th>41645</th>\n",
       "      <td>Pria</td>\n",
       "      <td>23</td>\n",
       "      <td>1</td>\n",
       "      <td>8</td>\n",
       "      <td>1</td>\n",
       "      <td>&lt; 1 Tahun</td>\n",
       "      <td>Tidak</td>\n",
       "      <td>38465</td>\n",
       "      <td>152</td>\n",
       "      <td>76</td>\n",
       "      <td>0</td>\n",
       "    </tr>\n",
       "    <tr>\n",
       "      <th>13658</th>\n",
       "      <td>Wanita</td>\n",
       "      <td>68</td>\n",
       "      <td>1</td>\n",
       "      <td>2</td>\n",
       "      <td>0</td>\n",
       "      <td>&lt; 1 Tahun</td>\n",
       "      <td>Tidak</td>\n",
       "      <td>2630</td>\n",
       "      <td>1</td>\n",
       "      <td>281</td>\n",
       "      <td>0</td>\n",
       "    </tr>\n",
       "    <tr>\n",
       "      <th>31298</th>\n",
       "      <td>Wanita</td>\n",
       "      <td>25</td>\n",
       "      <td>1</td>\n",
       "      <td>8</td>\n",
       "      <td>1</td>\n",
       "      <td>&lt; 1 Tahun</td>\n",
       "      <td>Tidak</td>\n",
       "      <td>37381</td>\n",
       "      <td>152</td>\n",
       "      <td>133</td>\n",
       "      <td>0</td>\n",
       "    </tr>\n",
       "  </tbody>\n",
       "</table>\n",
       "</div>"
      ],
      "text/plain": [
       "      Jenis_Kelamin  Umur  SIM  Kode_Daerah  Sudah_Asuransi Umur_Kendaraan  \\\n",
       "17204        Wanita    49    1           15               0      1-2 Tahun   \n",
       "45554          Pria    22    1            8               0      < 1 Tahun   \n",
       "41645          Pria    23    1            8               1      < 1 Tahun   \n",
       "13658        Wanita    68    1            2               0      < 1 Tahun   \n",
       "31298        Wanita    25    1            8               1      < 1 Tahun   \n",
       "\n",
       "      Kendaraan_Rusak  Premi  Kanal_Penjualan  Lama_Berlangganan  Tertarik  \n",
       "17204          Pernah  29414               14                 28         0  \n",
       "45554           Tidak  27806              152                184         0  \n",
       "41645           Tidak  38465              152                 76         0  \n",
       "13658           Tidak   2630                1                281         0  \n",
       "31298           Tidak  37381              152                133         0  "
      ]
     },
     "execution_count": 46,
     "metadata": {},
     "output_type": "execute_result"
    }
   ],
   "source": [
    "df_preprocess_test.sample(5)"
   ]
  },
  {
   "cell_type": "markdown",
   "metadata": {
    "id": "3xAIV9joOIxy"
   },
   "source": [
    "## Filter Fitur yang Digunakan "
   ]
  },
  {
   "cell_type": "code",
   "execution_count": 47,
   "metadata": {
    "executionInfo": {
     "elapsed": 9,
     "status": "ok",
     "timestamp": 1639013894402,
     "user": {
      "displayName": "Kaenova Mahendra Auditama",
      "photoUrl": "https://lh3.googleusercontent.com/a-/AOh14Gi1RKfxEOWo3OIlFm8PnyXZE9ZHeE2hrNOTSBDKYw=s64",
      "userId": "02421881994816586492"
     },
     "user_tz": -420
    },
    "id": "VGjf6EcHOA44"
   },
   "outputs": [],
   "source": [
    "df_preprocess_train_filter = df_preprocess_train.drop(axis=1, columns=[\"id\", \"Premi\"])\n",
    "df_preprocess_test_filter = df_preprocess_test.drop(axis=1 ,  columns=(\"Premi\"))"
   ]
  },
  {
   "cell_type": "markdown",
   "metadata": {
    "id": "NwaY9cW6PF_9"
   },
   "source": [
    "## Drop NaN dan Merubah Tipe Data"
   ]
  },
  {
   "cell_type": "code",
   "execution_count": 48,
   "metadata": {
    "executionInfo": {
     "elapsed": 8,
     "status": "ok",
     "timestamp": 1639013895234,
     "user": {
      "displayName": "Kaenova Mahendra Auditama",
      "photoUrl": "https://lh3.googleusercontent.com/a-/AOh14Gi1RKfxEOWo3OIlFm8PnyXZE9ZHeE2hrNOTSBDKYw=s64",
      "userId": "02421881994816586492"
     },
     "user_tz": -420
    },
    "id": "OdlsnXu8PE_2"
   },
   "outputs": [],
   "source": [
    "df_preprocess_train_filter_dropnan = df_preprocess_train_filter.dropna()\n",
    "df_preprocess_test_filter_dropnan = df_preprocess_test_filter.dropna()"
   ]
  },
  {
   "cell_type": "code",
   "execution_count": 49,
   "metadata": {
    "colab": {
     "base_uri": "https://localhost:8080/"
    },
    "executionInfo": {
     "elapsed": 5,
     "status": "ok",
     "timestamp": 1639013896508,
     "user": {
      "displayName": "Kaenova Mahendra Auditama",
      "photoUrl": "https://lh3.googleusercontent.com/a-/AOh14Gi1RKfxEOWo3OIlFm8PnyXZE9ZHeE2hrNOTSBDKYw=s64",
      "userId": "02421881994816586492"
     },
     "user_tz": -420
    },
    "id": "qdiOgiP2aEp3",
    "outputId": "00c5faff-975e-4466-e31f-8b8b0fd4ea76"
   },
   "outputs": [
    {
     "name": "stderr",
     "output_type": "stream",
     "text": [
      "/home/kaenova/.local/lib/python3.8/site-packages/pandas/core/frame.py:3636: SettingWithCopyWarning: \n",
      "A value is trying to be set on a copy of a slice from a DataFrame.\n",
      "Try using .loc[row_indexer,col_indexer] = value instead\n",
      "\n",
      "See the caveats in the documentation: https://pandas.pydata.org/pandas-docs/stable/user_guide/indexing.html#returning-a-view-versus-a-copy\n",
      "  self[k1] = value[k2]\n"
     ]
    }
   ],
   "source": [
    "df_preprocess_train_filter_dropnan[[\"Umur\",\"Kode_Daerah\", \"SIM\", \"Sudah_Asuransi\", \"Kanal_Penjualan\", \"Lama_Berlangganan\"]] = df_preprocess_train_filter_dropnan[[\"Umur\", \"Kode_Daerah\", \"SIM\", \"Sudah_Asuransi\", \"Kanal_Penjualan\", \"Lama_Berlangganan\"]].astype('int')"
   ]
  },
  {
   "cell_type": "code",
   "execution_count": 50,
   "metadata": {
    "colab": {
     "base_uri": "https://localhost:8080/"
    },
    "executionInfo": {
     "elapsed": 9,
     "status": "ok",
     "timestamp": 1639013897042,
     "user": {
      "displayName": "Kaenova Mahendra Auditama",
      "photoUrl": "https://lh3.googleusercontent.com/a-/AOh14Gi1RKfxEOWo3OIlFm8PnyXZE9ZHeE2hrNOTSBDKYw=s64",
      "userId": "02421881994816586492"
     },
     "user_tz": -420
    },
    "id": "hBrO1gvyI4L-",
    "outputId": "58fcddca-fe78-433c-e7ed-3359a9bce284"
   },
   "outputs": [
    {
     "name": "stdout",
     "output_type": "stream",
     "text": [
      "Train 285831\n",
      "Test 47639\n"
     ]
    }
   ],
   "source": [
    "# Before\n",
    "print(\"Train\", len(df_preprocess_train_filter))\n",
    "print(\"Test\", len(df_preprocess_test_filter))"
   ]
  },
  {
   "cell_type": "code",
   "execution_count": 51,
   "metadata": {
    "colab": {
     "base_uri": "https://localhost:8080/"
    },
    "executionInfo": {
     "elapsed": 4,
     "status": "ok",
     "timestamp": 1639013897869,
     "user": {
      "displayName": "Kaenova Mahendra Auditama",
      "photoUrl": "https://lh3.googleusercontent.com/a-/AOh14Gi1RKfxEOWo3OIlFm8PnyXZE9ZHeE2hrNOTSBDKYw=s64",
      "userId": "02421881994816586492"
     },
     "user_tz": -420
    },
    "id": "kuR5NEVlI6Hq",
    "outputId": "41d8ac25-0ed0-4c9b-a0eb-a67a311b2496"
   },
   "outputs": [
    {
     "name": "stdout",
     "output_type": "stream",
     "text": [
      "Train 180306\n",
      "Test 47639\n"
     ]
    }
   ],
   "source": [
    "# After\n",
    "print(\"Train\", len(df_preprocess_train_filter_dropnan))\n",
    "print(\"Test\", len(df_preprocess_test_filter_dropnan))"
   ]
  },
  {
   "cell_type": "markdown",
   "metadata": {
    "id": "VDUFR9KgPnNA"
   },
   "source": [
    "## Drop Duplicate"
   ]
  },
  {
   "cell_type": "code",
   "execution_count": 52,
   "metadata": {
    "executionInfo": {
     "elapsed": 3,
     "status": "ok",
     "timestamp": 1639013899552,
     "user": {
      "displayName": "Kaenova Mahendra Auditama",
      "photoUrl": "https://lh3.googleusercontent.com/a-/AOh14Gi1RKfxEOWo3OIlFm8PnyXZE9ZHeE2hrNOTSBDKYw=s64",
      "userId": "02421881994816586492"
     },
     "user_tz": -420
    },
    "id": "i4VPZIgePo-A"
   },
   "outputs": [],
   "source": [
    "df_preprocess_train_filter_dropnan_dropdups = df_preprocess_train_filter_dropnan.drop_duplicates(keep='first')\n",
    "df_preprocess_test_filter_dropnan_dropdups = df_preprocess_test_filter_dropnan.drop_duplicates(keep='first')"
   ]
  },
  {
   "cell_type": "code",
   "execution_count": 53,
   "metadata": {
    "colab": {
     "base_uri": "https://localhost:8080/"
    },
    "executionInfo": {
     "elapsed": 4,
     "status": "ok",
     "timestamp": 1639013899995,
     "user": {
      "displayName": "Kaenova Mahendra Auditama",
      "photoUrl": "https://lh3.googleusercontent.com/a-/AOh14Gi1RKfxEOWo3OIlFm8PnyXZE9ZHeE2hrNOTSBDKYw=s64",
      "userId": "02421881994816586492"
     },
     "user_tz": -420
    },
    "id": "DFyzncybP9Xy",
    "outputId": "1b243812-a90d-4098-ea1f-91a4aca880be"
   },
   "outputs": [
    {
     "name": "stdout",
     "output_type": "stream",
     "text": [
      "Examples:\n",
      "    Total: 46679\n",
      "    Positive: 5822 (12.47% of total)\n",
      "\n",
      "Before 180306\n",
      "After 169128\n"
     ]
    }
   ],
   "source": [
    "# Data Sanity Check\n",
    "neg, pos = np.bincount(df_preprocess_test_filter_dropnan_dropdups['Tertarik'])\n",
    "total = neg + pos\n",
    "print('Examples:\\n    Total: {}\\n    Positive: {} ({:.2f}% of total)\\n'.format(\n",
    "    total, pos, 100 * pos / total))\n",
    "# Oke masih amann\n",
    "print(\"Before\", len(df_preprocess_train_filter_dropnan))\n",
    "print(\"After\", len(df_preprocess_train_filter_dropnan_dropdups))"
   ]
  },
  {
   "cell_type": "markdown",
   "metadata": {
    "id": "8BYFO7WqQXxI"
   },
   "source": [
    "## Min Max Scaling on Numerical"
   ]
  },
  {
   "cell_type": "code",
   "execution_count": 54,
   "metadata": {
    "colab": {
     "base_uri": "https://localhost:8080/"
    },
    "executionInfo": {
     "elapsed": 9,
     "status": "ok",
     "timestamp": 1639013901341,
     "user": {
      "displayName": "Kaenova Mahendra Auditama",
      "photoUrl": "https://lh3.googleusercontent.com/a-/AOh14Gi1RKfxEOWo3OIlFm8PnyXZE9ZHeE2hrNOTSBDKYw=s64",
      "userId": "02421881994816586492"
     },
     "user_tz": -420
    },
    "id": "uQL2FqBCQgjS",
    "outputId": "f4a8481a-107a-4de0-ddf0-55b5c93e1db5"
   },
   "outputs": [
    {
     "data": {
      "text/plain": [
       "MinMaxScaler()"
      ]
     },
     "execution_count": 54,
     "metadata": {},
     "output_type": "execute_result"
    }
   ],
   "source": [
    "min_max_scaler = MinMaxScaler()\n",
    "min_max_scaler.fit(df_preprocess_train_filter_dropnan_dropdups[[\"Umur\", \"Lama_Berlangganan\"]])\n",
    "min_max_scaler.fit(df_preprocess_test_filter_dropnan_dropdups[[\"Umur\", \"Lama_Berlangganan\"]])"
   ]
  },
  {
   "cell_type": "code",
   "execution_count": 55,
   "metadata": {
    "executionInfo": {
     "elapsed": 6,
     "status": "ok",
     "timestamp": 1639013901343,
     "user": {
      "displayName": "Kaenova Mahendra Auditama",
      "photoUrl": "https://lh3.googleusercontent.com/a-/AOh14Gi1RKfxEOWo3OIlFm8PnyXZE9ZHeE2hrNOTSBDKYw=s64",
      "userId": "02421881994816586492"
     },
     "user_tz": -420
    },
    "id": "j6L30kkxRT1j"
   },
   "outputs": [],
   "source": [
    "df_preprocess_train_scaling = df_preprocess_train_filter_dropnan_dropdups.copy()\n",
    "df_preprocess_test_scaling = df_preprocess_test_filter_dropnan_dropdups.copy()\n",
    "df_preprocess_train_scaling[[\"Umur\", \"Lama_Berlangganan\"]] = min_max_scaler.transform(df_preprocess_train_filter_dropnan_dropdups[[\"Umur\", \"Lama_Berlangganan\"]])\n",
    "df_preprocess_test_scaling[[\"Umur\", \"Lama_Berlangganan\"]] = min_max_scaler.transform(df_preprocess_test_filter_dropnan_dropdups[[\"Umur\", \"Lama_Berlangganan\"]])"
   ]
  },
  {
   "cell_type": "markdown",
   "metadata": {
    "id": "s8N_bfd8gAzW"
   },
   "source": [
    "## Just Checking on Kanal_Penjualan\n",
    "why we do this? refer to  \n",
    "Data Exploration on Kanal_Penjualan"
   ]
  },
  {
   "cell_type": "code",
   "execution_count": 56,
   "metadata": {
    "executionInfo": {
     "elapsed": 9,
     "status": "ok",
     "timestamp": 1639013901779,
     "user": {
      "displayName": "Kaenova Mahendra Auditama",
      "photoUrl": "https://lh3.googleusercontent.com/a-/AOh14Gi1RKfxEOWo3OIlFm8PnyXZE9ZHeE2hrNOTSBDKYw=s64",
      "userId": "02421881994816586492"
     },
     "user_tz": -420
    },
    "id": "34r5aXG6gCiR"
   },
   "outputs": [],
   "source": [
    "a = np.sort(df_preprocess_train_scaling[\"Kanal_Penjualan\"].unique()).tolist()\n",
    "b = np.sort(df_preprocess_test_scaling[\"Kanal_Penjualan\"].unique()).tolist()"
   ]
  },
  {
   "cell_type": "code",
   "execution_count": 57,
   "metadata": {
    "colab": {
     "base_uri": "https://localhost:8080/"
    },
    "executionInfo": {
     "elapsed": 9,
     "status": "ok",
     "timestamp": 1639013901780,
     "user": {
      "displayName": "Kaenova Mahendra Auditama",
      "photoUrl": "https://lh3.googleusercontent.com/a-/AOh14Gi1RKfxEOWo3OIlFm8PnyXZE9ZHeE2hrNOTSBDKYw=s64",
      "userId": "02421881994816586492"
     },
     "user_tz": -420
    },
    "id": "5nUO99JZgJfh",
    "outputId": "2ce74180-8192-4a0e-d09a-e2e63b3f089c"
   },
   "outputs": [
    {
     "name": "stdout",
     "output_type": "stream",
     "text": [
      "[33, 104, 112]\n",
      "[2, 6, 17, 28, 50, 57, 69, 71, 74, 75, 82, 84, 100, 101, 110, 117, 123, 134, 137]\n",
      "3\n",
      "19\n"
     ]
    }
   ],
   "source": [
    "not_in_a = []\n",
    "not_in_b = []\n",
    "for kanal in set(a+b):\n",
    "    if kanal not in a:\n",
    "        not_in_a.append(kanal)\n",
    "    if kanal not in b:\n",
    "        not_in_b.append(kanal)\n",
    "\n",
    "print(not_in_a)\n",
    "print(not_in_b)\n",
    "print(len(not_in_a))\n",
    "print(len(not_in_b))"
   ]
  },
  {
   "cell_type": "markdown",
   "metadata": {
    "id": "QYapM_APhA-j"
   },
   "source": [
    "Hmm ada data yang hilang pada train, Kanal_Penjualan 33 104 dan 112, ini harus disiapin jika ingin menggunakan one hot encoding"
   ]
  },
  {
   "cell_type": "code",
   "execution_count": 58,
   "metadata": {
    "executionInfo": {
     "elapsed": 3,
     "status": "ok",
     "timestamp": 1639013902239,
     "user": {
      "displayName": "Kaenova Mahendra Auditama",
      "photoUrl": "https://lh3.googleusercontent.com/a-/AOh14Gi1RKfxEOWo3OIlFm8PnyXZE9ZHeE2hrNOTSBDKYw=s64",
      "userId": "02421881994816586492"
     },
     "user_tz": -420
    },
    "id": "qh8mJBRJh075"
   },
   "outputs": [],
   "source": [
    "# Filling for One Hot Encoding Train\n",
    "fill_one_hot_train = []\n",
    "for i in not_in_a:\n",
    "    temp = []\n",
    "    nama = f\"Kanal_Penjualan_{i}\"\n",
    "    cols = np.zeros(len(df_preprocess_train_scaling))\n",
    "    temp.append(nama)\n",
    "    temp.append(cols)\n",
    "    fill_one_hot_train.append(temp)"
   ]
  },
  {
   "cell_type": "code",
   "execution_count": 59,
   "metadata": {
    "executionInfo": {
     "elapsed": 3,
     "status": "ok",
     "timestamp": 1639013902655,
     "user": {
      "displayName": "Kaenova Mahendra Auditama",
      "photoUrl": "https://lh3.googleusercontent.com/a-/AOh14Gi1RKfxEOWo3OIlFm8PnyXZE9ZHeE2hrNOTSBDKYw=s64",
      "userId": "02421881994816586492"
     },
     "user_tz": -420
    },
    "id": "ArtukhCliqdx"
   },
   "outputs": [],
   "source": [
    "# Filling for One Hot Encoding Test\n",
    "fill_one_hot_test = []\n",
    "for i in not_in_b:\n",
    "    temp = []\n",
    "    nama = f\"Kanal_Penjualan_{i}\"\n",
    "    cols = np.zeros(len(df_preprocess_test_scaling))\n",
    "    temp.append(nama)\n",
    "    temp.append(cols)\n",
    "    fill_one_hot_test.append(temp)"
   ]
  },
  {
   "cell_type": "markdown",
   "metadata": {
    "id": "MAjUQ6ZTSgcc"
   },
   "source": [
    "Save data before One Hot Encoding or Feature Selection"
   ]
  },
  {
   "cell_type": "code",
   "execution_count": 60,
   "metadata": {
    "executionInfo": {
     "elapsed": 4,
     "status": "ok",
     "timestamp": 1639013903165,
     "user": {
      "displayName": "Kaenova Mahendra Auditama",
      "photoUrl": "https://lh3.googleusercontent.com/a-/AOh14Gi1RKfxEOWo3OIlFm8PnyXZE9ZHeE2hrNOTSBDKYw=s64",
      "userId": "02421881994816586492"
     },
     "user_tz": -420
    },
    "id": "tWZwMYtHSBdI"
   },
   "outputs": [],
   "source": [
    "# df_preprocess_train_scaling.to_csv(\"/content/drive/Shareddrives/Tubes Malin 2/data/processed/all_feature_noOneHot_train.csv\", index=False)\n",
    "# df_preprocess_test_scaling.to_csv(\"/content/drive/Shareddrives/Tubes Malin 2/data/processed/all_feature_noOneHot_test.csv\", index=False)"
   ]
  },
  {
   "cell_type": "markdown",
   "metadata": {
    "id": "NrCeEChkTBiG"
   },
   "source": [
    "## One Hot Encoding on Categorical Attribute"
   ]
  },
  {
   "cell_type": "code",
   "execution_count": 61,
   "metadata": {
    "executionInfo": {
     "elapsed": 3,
     "status": "ok",
     "timestamp": 1639013903564,
     "user": {
      "displayName": "Kaenova Mahendra Auditama",
      "photoUrl": "https://lh3.googleusercontent.com/a-/AOh14Gi1RKfxEOWo3OIlFm8PnyXZE9ZHeE2hrNOTSBDKYw=s64",
      "userId": "02421881994816586492"
     },
     "user_tz": -420
    },
    "id": "O21bngDmTXfu"
   },
   "outputs": [],
   "source": [
    "# Change Categorical with float datatype to string\n",
    "df_preprocess_train_scaling[[\"SIM\", \"Kode_Daerah\", \"Sudah_Asuransi\", \"Kanal_Penjualan\", \"Tertarik\"]] = df_preprocess_train_scaling[[\"SIM\", \"Kode_Daerah\", \"Sudah_Asuransi\", \"Kanal_Penjualan\", \"Tertarik\"]].astype(\"object\")\n",
    "df_preprocess_test_scaling[[\"SIM\", \"Kode_Daerah\", \"Sudah_Asuransi\", \"Kanal_Penjualan\", \"Tertarik\"]] = df_preprocess_test_scaling[[\"SIM\", \"Kode_Daerah\", \"Sudah_Asuransi\", \"Kanal_Penjualan\", \"Tertarik\"]].astype(\"object\")"
   ]
  },
  {
   "cell_type": "code",
   "execution_count": 62,
   "metadata": {
    "executionInfo": {
     "elapsed": 402,
     "status": "ok",
     "timestamp": 1639013904442,
     "user": {
      "displayName": "Kaenova Mahendra Auditama",
      "photoUrl": "https://lh3.googleusercontent.com/a-/AOh14Gi1RKfxEOWo3OIlFm8PnyXZE9ZHeE2hrNOTSBDKYw=s64",
      "userId": "02421881994816586492"
     },
     "user_tz": -420
    },
    "id": "n8wbWQKETA9J"
   },
   "outputs": [],
   "source": [
    "df_onehot_train = pd.get_dummies(df_preprocess_train_scaling)\n",
    "df_onehot_test = pd.get_dummies(df_preprocess_test_scaling)"
   ]
  },
  {
   "cell_type": "code",
   "execution_count": 63,
   "metadata": {
    "executionInfo": {
     "elapsed": 5,
     "status": "ok",
     "timestamp": 1639013904443,
     "user": {
      "displayName": "Kaenova Mahendra Auditama",
      "photoUrl": "https://lh3.googleusercontent.com/a-/AOh14Gi1RKfxEOWo3OIlFm8PnyXZE9ZHeE2hrNOTSBDKYw=s64",
      "userId": "02421881994816586492"
     },
     "user_tz": -420
    },
    "id": "KZnQlTv-jLXI"
   },
   "outputs": [],
   "source": [
    "# Filling one hot encoding\n",
    "for new_cols in fill_one_hot_train:\n",
    "    df_onehot_train[new_cols[0]] = new_cols[1]\n",
    "\n",
    "for new_cols in fill_one_hot_test:\n",
    "    df_onehot_test[new_cols[0]] = new_cols[1]"
   ]
  },
  {
   "cell_type": "code",
   "execution_count": 64,
   "metadata": {
    "executionInfo": {
     "elapsed": 3,
     "status": "ok",
     "timestamp": 1639013905738,
     "user": {
      "displayName": "Kaenova Mahendra Auditama",
      "photoUrl": "https://lh3.googleusercontent.com/a-/AOh14Gi1RKfxEOWo3OIlFm8PnyXZE9ZHeE2hrNOTSBDKYw=s64",
      "userId": "02421881994816586492"
     },
     "user_tz": -420
    },
    "id": "8PyZ-8wemcQJ"
   },
   "outputs": [],
   "source": [
    "df_onehot_train = df_onehot_train.reindex(columns=sorted(df_onehot_train.columns))\n",
    "cols_at_end = ['Tertarik_0', 'Tertarik_1']\n",
    "df_onehot_train = df_onehot_train[[c for c in df_onehot_train if c not in cols_at_end] \n",
    "        + [c for c in cols_at_end if c in df_onehot_train]]"
   ]
  },
  {
   "cell_type": "code",
   "execution_count": 65,
   "metadata": {
    "executionInfo": {
     "elapsed": 4,
     "status": "ok",
     "timestamp": 1639013906158,
     "user": {
      "displayName": "Kaenova Mahendra Auditama",
      "photoUrl": "https://lh3.googleusercontent.com/a-/AOh14Gi1RKfxEOWo3OIlFm8PnyXZE9ZHeE2hrNOTSBDKYw=s64",
      "userId": "02421881994816586492"
     },
     "user_tz": -420
    },
    "id": "2y-3k9ZXoBUr"
   },
   "outputs": [],
   "source": [
    "df_onehot_test = df_onehot_test.reindex(columns=sorted(df_onehot_test.columns))\n",
    "cols_at_end = ['Tertarik_0', 'Tertarik_1']\n",
    "df_onehot_test = df_onehot_test[[c for c in df_onehot_test if c not in cols_at_end] \n",
    "        + [c for c in cols_at_end if c in df_onehot_test]]"
   ]
  },
  {
   "cell_type": "markdown",
   "metadata": {
    "id": "QgpHau02kzFK"
   },
   "source": [
    "Mari kita lakukan reorder kolom"
   ]
  },
  {
   "cell_type": "code",
   "execution_count": 66,
   "metadata": {
    "colab": {
     "base_uri": "https://localhost:8080/"
    },
    "executionInfo": {
     "elapsed": 5,
     "status": "ok",
     "timestamp": 1639013906672,
     "user": {
      "displayName": "Kaenova Mahendra Auditama",
      "photoUrl": "https://lh3.googleusercontent.com/a-/AOh14Gi1RKfxEOWo3OIlFm8PnyXZE9ZHeE2hrNOTSBDKYw=s64",
      "userId": "02421881994816586492"
     },
     "user_tz": -420
    },
    "id": "qIEqpdlHloxl",
    "outputId": "f4ef1915-9703-46b4-faea-fdf5ee6818df"
   },
   "outputs": [
    {
     "data": {
      "text/plain": [
       "Index(['Jenis_Kelamin_Pria', 'Jenis_Kelamin_Wanita', 'Kanal_Penjualan_1',\n",
       "       'Kanal_Penjualan_10', 'Kanal_Penjualan_100', 'Kanal_Penjualan_101',\n",
       "       'Kanal_Penjualan_102', 'Kanal_Penjualan_103', 'Kanal_Penjualan_104',\n",
       "       'Kanal_Penjualan_105',\n",
       "       ...\n",
       "       'SIM_0', 'SIM_1', 'Sudah_Asuransi_0', 'Sudah_Asuransi_1', 'Umur',\n",
       "       'Umur_Kendaraan_1-2 Tahun', 'Umur_Kendaraan_< 1 Tahun',\n",
       "       'Umur_Kendaraan_> 2 Tahun', 'Tertarik_0', 'Tertarik_1'],\n",
       "      dtype='object', length=217)"
      ]
     },
     "execution_count": 66,
     "metadata": {},
     "output_type": "execute_result"
    }
   ],
   "source": [
    "df_onehot_train.columns"
   ]
  },
  {
   "cell_type": "markdown",
   "metadata": {
    "id": "P9NDKHDeenU8"
   },
   "source": [
    "### Check Hasil One Hot"
   ]
  },
  {
   "cell_type": "code",
   "execution_count": 67,
   "metadata": {
    "colab": {
     "base_uri": "https://localhost:8080/"
    },
    "executionInfo": {
     "elapsed": 9,
     "status": "ok",
     "timestamp": 1639013907175,
     "user": {
      "displayName": "Kaenova Mahendra Auditama",
      "photoUrl": "https://lh3.googleusercontent.com/a-/AOh14Gi1RKfxEOWo3OIlFm8PnyXZE9ZHeE2hrNOTSBDKYw=s64",
      "userId": "02421881994816586492"
     },
     "user_tz": -420
    },
    "id": "-el65xDzYvdk",
    "outputId": "26185e4b-c01a-4a52-a564-4485477f6207"
   },
   "outputs": [
    {
     "name": "stdout",
     "output_type": "stream",
     "text": [
      "(169128, 217)\n",
      "(46679, 217)\n"
     ]
    }
   ],
   "source": [
    "# Cek bentuk\n",
    "print(df_onehot_train.shape)\n",
    "print(df_onehot_test.shape)"
   ]
  },
  {
   "cell_type": "code",
   "execution_count": 68,
   "metadata": {
    "colab": {
     "base_uri": "https://localhost:8080/"
    },
    "executionInfo": {
     "elapsed": 9,
     "status": "ok",
     "timestamp": 1639013907581,
     "user": {
      "displayName": "Kaenova Mahendra Auditama",
      "photoUrl": "https://lh3.googleusercontent.com/a-/AOh14Gi1RKfxEOWo3OIlFm8PnyXZE9ZHeE2hrNOTSBDKYw=s64",
      "userId": "02421881994816586492"
     },
     "user_tz": -420
    },
    "id": "Z9W2USKVY7hb",
    "outputId": "302c0c1c-3163-4a47-986a-69c51705d3d4"
   },
   "outputs": [
    {
     "data": {
      "text/plain": [
       "Index(['Jenis_Kelamin_Pria', 'Jenis_Kelamin_Wanita', 'Kanal_Penjualan_1',\n",
       "       'Kanal_Penjualan_10', 'Kanal_Penjualan_100', 'Kanal_Penjualan_101',\n",
       "       'Kanal_Penjualan_102', 'Kanal_Penjualan_103', 'Kanal_Penjualan_104',\n",
       "       'Kanal_Penjualan_105',\n",
       "       ...\n",
       "       'SIM_0', 'SIM_1', 'Sudah_Asuransi_0', 'Sudah_Asuransi_1', 'Umur',\n",
       "       'Umur_Kendaraan_1-2 Tahun', 'Umur_Kendaraan_< 1 Tahun',\n",
       "       'Umur_Kendaraan_> 2 Tahun', 'Tertarik_0', 'Tertarik_1'],\n",
       "      dtype='object', length=217)"
      ]
     },
     "execution_count": 68,
     "metadata": {},
     "output_type": "execute_result"
    }
   ],
   "source": [
    "df_onehot_train.columns"
   ]
  },
  {
   "cell_type": "code",
   "execution_count": 69,
   "metadata": {
    "executionInfo": {
     "elapsed": 2,
     "status": "ok",
     "timestamp": 1639013908527,
     "user": {
      "displayName": "Kaenova Mahendra Auditama",
      "photoUrl": "https://lh3.googleusercontent.com/a-/AOh14Gi1RKfxEOWo3OIlFm8PnyXZE9ZHeE2hrNOTSBDKYw=s64",
      "userId": "02421881994816586492"
     },
     "user_tz": -420
    },
    "id": "bS4NXUFyZBN7"
   },
   "outputs": [],
   "source": [
    "# Cari kolom yang gaada di data train atau test\n",
    "one_hot_not_appear_train_test = []\n",
    "for i in df_onehot_train.columns:\n",
    "    if i not in df_onehot_test.columns:\n",
    "        print(i)\n",
    "        one_hot_not_appear_train_test.append(i)"
   ]
  },
  {
   "cell_type": "code",
   "execution_count": 70,
   "metadata": {
    "executionInfo": {
     "elapsed": 7,
     "status": "ok",
     "timestamp": 1639013909063,
     "user": {
      "displayName": "Kaenova Mahendra Auditama",
      "photoUrl": "https://lh3.googleusercontent.com/a-/AOh14Gi1RKfxEOWo3OIlFm8PnyXZE9ZHeE2hrNOTSBDKYw=s64",
      "userId": "02421881994816586492"
     },
     "user_tz": -420
    },
    "id": "qXEzQebBUTxD"
   },
   "outputs": [],
   "source": [
    "# df_onehot_train.to_csv(\"/content/drive/Shareddrives/Tubes Malin 2/data/processed/all_feature_OneHot_train.csv\", index=False)\n",
    "# df_onehot_test.to_csv(\"/content/drive/Shareddrives/Tubes Malin 2/data/processed/all_feature_OneHot_test.csv\", index=False)"
   ]
  },
  {
   "cell_type": "markdown",
   "metadata": {
    "id": "5fIj8NhW_nXk"
   },
   "source": [
    "## Retreive Best Features"
   ]
  },
  {
   "cell_type": "code",
   "execution_count": 71,
   "metadata": {
    "executionInfo": {
     "elapsed": 3,
     "status": "ok",
     "timestamp": 1639013910880,
     "user": {
      "displayName": "Kaenova Mahendra Auditama",
      "photoUrl": "https://lh3.googleusercontent.com/a-/AOh14Gi1RKfxEOWo3OIlFm8PnyXZE9ZHeE2hrNOTSBDKYw=s64",
      "userId": "02421881994816586492"
     },
     "user_tz": -420
    },
    "id": "WXwmFTM1_lWB"
   },
   "outputs": [],
   "source": [
    "df_preprocess_best_train = df_preprocess_train_scaling[[\"Kendaraan_Rusak\", \"Sudah_Asuransi\", \"Tertarik\"]].copy()\n",
    "df_preprocess_best_test = df_preprocess_test_scaling[[\"Kendaraan_Rusak\", \"Sudah_Asuransi\", \"Tertarik\"]].copy()"
   ]
  },
  {
   "cell_type": "code",
   "execution_count": 72,
   "metadata": {
    "executionInfo": {
     "elapsed": 3,
     "status": "ok",
     "timestamp": 1639013911344,
     "user": {
      "displayName": "Kaenova Mahendra Auditama",
      "photoUrl": "https://lh3.googleusercontent.com/a-/AOh14Gi1RKfxEOWo3OIlFm8PnyXZE9ZHeE2hrNOTSBDKYw=s64",
      "userId": "02421881994816586492"
     },
     "user_tz": -420
    },
    "id": "m5i9xAztALPG"
   },
   "outputs": [],
   "source": [
    "# One Hot Encoding\n",
    "df_oneshot_best_train = pd.get_dummies(df_preprocess_best_train)\n",
    "df_oneshot_best_test = pd.get_dummies(df_preprocess_best_test)"
   ]
  },
  {
   "cell_type": "code",
   "execution_count": 73,
   "metadata": {
    "executionInfo": {
     "elapsed": 2,
     "status": "ok",
     "timestamp": 1639013911779,
     "user": {
      "displayName": "Kaenova Mahendra Auditama",
      "photoUrl": "https://lh3.googleusercontent.com/a-/AOh14Gi1RKfxEOWo3OIlFm8PnyXZE9ZHeE2hrNOTSBDKYw=s64",
      "userId": "02421881994816586492"
     },
     "user_tz": -420
    },
    "id": "KoT_Ftk2AXZI"
   },
   "outputs": [],
   "source": [
    "# df_oneshot_best_train.to_csv(\"/content/drive/Shareddrives/Tubes Malin 2/data/processed/best_feature_OneHot_train.csv\", index=False)\n",
    "# df_oneshot_best_test.to_csv(\"/content/drive/Shareddrives/Tubes Malin 2/data/processed/best_feature_OneHot_test.csv\", index=False)"
   ]
  },
  {
   "cell_type": "markdown",
   "metadata": {
    "id": "A84INdFo_aS1"
   },
   "source": [
    "# Modelling"
   ]
  },
  {
   "cell_type": "markdown",
   "metadata": {
    "id": "IdTWEiMZxL2i"
   },
   "source": [
    "## Splitting Data Training for Model\n",
    "Kita akan menggunakan teknik K-Fold yang stratified. Dengan K-Fold, kita dapat melihat Performansi Model secara keseluruhan data training. Ditambah dengan metode stratified, kita bisa mendapatkan ratio data yang serupa pada setiap foldnya\n",
    "  \n",
    "Kami akan mealukan K-Fold hanya pada data train yang diberikan\n",
    "  \n",
    "Kami menyiapkan beberapa bentuk data yang akan dicoba. Ada Best Feature di One Hot Encoded, All Feature One Hot Encoded, dan All Feature Ordinal Encoded"
   ]
  },
  {
   "cell_type": "code",
   "execution_count": 74,
   "metadata": {
    "executionInfo": {
     "elapsed": 393,
     "status": "ok",
     "timestamp": 1639016433696,
     "user": {
      "displayName": "Kaenova Mahendra Auditama",
      "photoUrl": "https://lh3.googleusercontent.com/a-/AOh14Gi1RKfxEOWo3OIlFm8PnyXZE9ZHeE2hrNOTSBDKYw=s64",
      "userId": "02421881994816586492"
     },
     "user_tz": -420
    },
    "id": "E985nH4OLH71"
   },
   "outputs": [],
   "source": [
    "training_testing_data = {}"
   ]
  },
  {
   "cell_type": "markdown",
   "metadata": {
    "id": "LXIfvofxTU7p"
   },
   "source": [
    "### Best Feature (Ordinal Encoded on Target)"
   ]
  },
  {
   "cell_type": "code",
   "execution_count": 75,
   "metadata": {
    "executionInfo": {
     "elapsed": 4,
     "status": "ok",
     "timestamp": 1639016434103,
     "user": {
      "displayName": "Kaenova Mahendra Auditama",
      "photoUrl": "https://lh3.googleusercontent.com/a-/AOh14Gi1RKfxEOWo3OIlFm8PnyXZE9ZHeE2hrNOTSBDKYw=s64",
      "userId": "02421881994816586492"
     },
     "user_tz": -420
    },
    "id": "N73LbeBgTbNZ"
   },
   "outputs": [],
   "source": [
    "train_best = df_oneshot_best_train.copy()\n",
    "train_best.reset_index(drop=True, inplace=True)\n",
    "\n",
    "X = train_best.drop(axis=1, columns=[\"Tertarik_0\", \"Tertarik_1\"]).to_numpy()\n",
    "y = np.argmax(train_best[[\"Tertarik_0\", \"Tertarik_1\"]].to_numpy(), axis=1)\n",
    "# Need to revert it back to ordinal coding, and in the k fold, we need to one hot it again\n",
    "\n",
    "test_best = df_oneshot_best_test.copy()\n",
    "test_best.reset_index(drop=True, inplace=True)\n",
    "\n",
    "training_data_fold = {}\n",
    "training_data_fold[\"column_in_order\"] = train_best.columns\n",
    "\n",
    "X_test = test_best.drop(axis=1, columns=[\"Tertarik_0\", \"Tertarik_1\"]).to_numpy()\n",
    "y_test = np.argmax(test_best[[\"Tertarik_0\", \"Tertarik_1\"]].to_numpy(), axis=1).astype(np.int)\n",
    "training_data_fold[\"Test\"] = {\n",
    "    \"X\" : X_test,\n",
    "    \"y\" : y_test\n",
    "}\n",
    "\n",
    "def one_hot_from_np_array(a):\n",
    "    b = np.zeros((a.size, a.max()+1))\n",
    "    b[np.arange(a.size),a] = 1\n",
    "    return b\n",
    "\n",
    "skf = StratifiedKFold(n_splits=4, random_state=1, shuffle=True)\n",
    "\n",
    "counter = 0\n",
    "for train_index, test_index in skf.split(X, y):\n",
    "    X_train, X_test = X[train_index], X[test_index]\n",
    "    y_train_not_onehot, y_test_not_onehot = y[train_index], y[test_index]\n",
    "    training_data_fold[counter] = {\n",
    "        \"X_train\" : X_train,\n",
    "        \"X_test\" : X_test,\n",
    "        \"y_train\" : y_train_not_onehot,\n",
    "        \"y_test\" : y_test_not_onehot\n",
    "    }\n",
    "    counter += 1\n",
    "\n",
    "training_testing_data[\"best_one_hot_oridnalOnTarget\"] = training_data_fold"
   ]
  },
  {
   "cell_type": "markdown",
   "metadata": {
    "id": "ns8eneHIxX6I"
   },
   "source": [
    "### Best Feature (One Hot Encoded)"
   ]
  },
  {
   "cell_type": "code",
   "execution_count": 76,
   "metadata": {
    "executionInfo": {
     "elapsed": 9,
     "status": "ok",
     "timestamp": 1639016434551,
     "user": {
      "displayName": "Kaenova Mahendra Auditama",
      "photoUrl": "https://lh3.googleusercontent.com/a-/AOh14Gi1RKfxEOWo3OIlFm8PnyXZE9ZHeE2hrNOTSBDKYw=s64",
      "userId": "02421881994816586492"
     },
     "user_tz": -420
    },
    "id": "DyMmUV42zVyb"
   },
   "outputs": [],
   "source": [
    "train_best = df_oneshot_best_train.copy()\n",
    "train_best.reset_index(drop=True, inplace=True)\n",
    "\n",
    "X = train_best.drop(axis=1, columns=[\"Tertarik_0\", \"Tertarik_1\"]).to_numpy()\n",
    "y = np.argmax(train_best[[\"Tertarik_0\", \"Tertarik_1\"]].to_numpy(), axis=1)\n",
    "# Need to revert it back to ordinal coding, and in the k fold, we need to one hot it again\n",
    "\n",
    "test_best = df_oneshot_best_test.copy()\n",
    "test_best.reset_index(drop=True, inplace=True)\n",
    "\n",
    "training_data_fold = {}\n",
    "training_data_fold[\"column_in_order\"] = train_best.columns\n",
    "\n",
    "training_data_fold[\"Test\"] = {\n",
    "    \"X\" : test_best.drop(axis=1, columns=[\"Tertarik_0\", \"Tertarik_1\"]).to_numpy(),\n",
    "    \"y\" : test_best.filter(axis=1, items=[\"Tertarik_0\", \"Tertarik_1\"]).to_numpy().astype(np.int)\n",
    "}\n",
    "\n",
    "def one_hot_from_np_array(a):\n",
    "    b = np.zeros((a.size, a.max()+1))\n",
    "    b[np.arange(a.size),a] = 1\n",
    "    return b\n",
    "\n",
    "\n",
    "skf = StratifiedKFold(n_splits=4, random_state=1, shuffle=True)\n",
    "\n",
    "counter = 0\n",
    "for train_index, test_index in skf.split(X, y):\n",
    "    X_train, X_test = X[train_index], X[test_index]\n",
    "    y_train_not_onehot, y_test_not_onehot = y[train_index], y[test_index]\n",
    "    y_train, y_test = one_hot_from_np_array(y_train_not_onehot), one_hot_from_np_array(y_test_not_onehot)\n",
    "    training_data_fold[counter] = {\n",
    "        \"X_train\" : X_train,\n",
    "        \"X_test\" : X_test,\n",
    "        \"y_train\" : y_train,\n",
    "        \"y_test\" : y_test\n",
    "    }\n",
    "    counter += 1\n",
    "\n",
    "training_testing_data[\"best_one_hot\"] = training_data_fold"
   ]
  },
  {
   "cell_type": "markdown",
   "metadata": {
    "id": "02ZNimiQyUeX"
   },
   "source": [
    "### All Feature (One Hot Encoded)"
   ]
  },
  {
   "cell_type": "code",
   "execution_count": 77,
   "metadata": {
    "executionInfo": {
     "elapsed": 428,
     "status": "ok",
     "timestamp": 1639016435384,
     "user": {
      "displayName": "Kaenova Mahendra Auditama",
      "photoUrl": "https://lh3.googleusercontent.com/a-/AOh14Gi1RKfxEOWo3OIlFm8PnyXZE9ZHeE2hrNOTSBDKYw=s64",
      "userId": "02421881994816586492"
     },
     "user_tz": -420
    },
    "id": "xtjQFviNyXLw"
   },
   "outputs": [],
   "source": [
    "train_best = df_onehot_train.copy()\n",
    "train_best.reset_index(drop=True, inplace=True)\n",
    "\n",
    "X = train_best.drop(axis=1, columns=[\"Tertarik_0\", \"Tertarik_1\"]).to_numpy()\n",
    "y = np.argmax(train_best[[\"Tertarik_0\", \"Tertarik_1\"]].to_numpy(), axis=1)\n",
    "# Need to revert it back to ordinal coding, and in the k fold, we need to one hot it again\n",
    "\n",
    "test_best = df_oneshot_best_test.copy()\n",
    "test_best.reset_index(drop=True, inplace=True)\n",
    "\n",
    "training_data_fold = {}\n",
    "training_data_fold[\"column_in_order\"] = train_best.columns\n",
    "\n",
    "training_data_fold[\"Test\"] = {\n",
    "    \"X\" : test_best.drop(axis=1, columns=[\"Tertarik_0\", \"Tertarik_1\"]).to_numpy(),\n",
    "    \"y\" : test_best.filter(axis=1, items=[\"Tertarik_0\", \"Tertarik_1\"]).to_numpy().astype(np.int)\n",
    "}\n",
    "\n",
    "def one_hot_from_np_array(a):\n",
    "    b = np.zeros((a.size, a.max()+1))\n",
    "    b[np.arange(a.size),a] = 1\n",
    "    return b\n",
    "\n",
    "skf = StratifiedKFold(n_splits=4, random_state=1, shuffle=True)\n",
    "\n",
    "counter = 0\n",
    "for train_index, test_index in skf.split(X, y):\n",
    "    X_train, X_test = X[train_index], X[test_index]\n",
    "    y_train_not_onehot, y_test_not_onehot = y[train_index], y[test_index]\n",
    "    y_train, y_test = one_hot_from_np_array(y_train_not_onehot), one_hot_from_np_array(y_test_not_onehot)\n",
    "    training_data_fold[counter] = {\n",
    "        \"X_train\" : X_train,\n",
    "        \"X_test\" : X_test,\n",
    "        \"y_train\" : y_train,\n",
    "        \"y_test\" : y_test\n",
    "    }\n",
    "    counter += 1\n",
    "\n",
    "training_testing_data[\"all_one_hot\"] = training_data_fold"
   ]
  },
  {
   "cell_type": "markdown",
   "metadata": {
    "id": "dCKUO_xsDErA"
   },
   "source": [
    "### All Feature (Ordinal Encoded)"
   ]
  },
  {
   "cell_type": "code",
   "execution_count": 78,
   "metadata": {
    "executionInfo": {
     "elapsed": 592,
     "status": "ok",
     "timestamp": 1639016436523,
     "user": {
      "displayName": "Kaenova Mahendra Auditama",
      "photoUrl": "https://lh3.googleusercontent.com/a-/AOh14Gi1RKfxEOWo3OIlFm8PnyXZE9ZHeE2hrNOTSBDKYw=s64",
      "userId": "02421881994816586492"
     },
     "user_tz": -420
    },
    "id": "4gnl4-x_DKMm"
   },
   "outputs": [],
   "source": [
    "map_categorical = {\n",
    "    \"Jenis_Kelamin\": {\n",
    "        \"Wanita\" : 0,\n",
    "        \"Pria\" : 1\n",
    "    },\n",
    "    \"Kendaraan_Rusak\" : {\n",
    "        \"Tidak\" : 0,\n",
    "        \"Pernah\" : 1\n",
    "    }, \n",
    "    \"Umur_Kendaraan\" : {\n",
    "        '< 1 Tahun' : 0,\n",
    "        '1-2 Tahun' : 1,\n",
    "        '> 2 Tahun' : 2\n",
    "    }\n",
    "}\n",
    "train_best = df_preprocess_train_scaling.copy()\n",
    "train_best =train_best.replace(map_categorical)\n",
    "train_best.reset_index(drop=True, inplace=True)\n",
    "\n",
    "X = train_best.drop(axis=1, columns=[\"Tertarik\"]).to_numpy().astype(np.float32)\n",
    "y = train_best[\"Tertarik\"].to_numpy().astype(np.int)\n",
    "# Need to revert it back to ordinal coding, and in the k fold, we need to one hot it again\n",
    "\n",
    "test_best = df_preprocess_test_scaling.copy()\n",
    "test_best = test_best.replace(map_categorical)\n",
    "test_best.reset_index(drop=True, inplace=True)\n",
    "\n",
    "training_data_fold = {}\n",
    "training_data_fold[\"column_in_order\"] = train_best.columns\n",
    "\n",
    "training_data_fold[\"Test\"] = {\n",
    "    \"X\" : test_best.drop(axis=1, columns=[\"Tertarik\"]).to_numpy(),\n",
    "    \"y\" : test_best.filter(axis=1, items=[\"Tertarik\"]).to_numpy()[:,0].astype(np.int)\n",
    "}\n",
    "\n",
    "def one_hot_from_np_array(a):\n",
    "    b = np.zeros((a.size, a.max()+1))\n",
    "    b[np.arange(a.size),a] = 1\n",
    "    return b\n",
    "\n",
    "skf = StratifiedKFold(n_splits=4, random_state=1, shuffle=True)\n",
    "\n",
    "counter = 0\n",
    "for train_index, test_index in skf.split(X, y):\n",
    "    X_train, X_test = X[train_index], X[test_index]\n",
    "    y_train_not_onehot, y_test_not_onehot = y[train_index], y[test_index]\n",
    "    y_train, y_test = y_train_not_onehot, y_test_not_onehot\n",
    "    training_data_fold[counter] = {\n",
    "        \"X_train\" : X_train,\n",
    "        \"X_test\" : X_test,\n",
    "        \"y_train\" : y_train,\n",
    "        \"y_test\" : y_test\n",
    "    }\n",
    "    counter += 1\n",
    "\n",
    "training_testing_data[\"all_ordinal\"] = training_data_fold"
   ]
  },
  {
   "cell_type": "markdown",
   "metadata": {},
   "source": [
    "### Saving All Training Data and Testing Data"
   ]
  },
  {
   "cell_type": "code",
   "execution_count": 83,
   "metadata": {},
   "outputs": [],
   "source": [
    "import bz2\n",
    "import pickle\n",
    "import _pickle as cPickle\n",
    "# ref: https://betterprogramming.pub/load-fast-load-big-with-compressed-pickles-5f311584507e"
   ]
  },
  {
   "cell_type": "code",
   "execution_count": 89,
   "metadata": {},
   "outputs": [],
   "source": [
    "# Pickle a file and then compress it into a file with extension \n",
    "def compressed_pickle(title, data):\n",
    "    with bz2.BZ2File(\"./\" +title + '.pbz2', 'w') as f: \n",
    "        cPickle.dump(data, f)"
   ]
  },
  {
   "cell_type": "code",
   "execution_count": 90,
   "metadata": {},
   "outputs": [],
   "source": [
    "# Load any compressed pickle file\n",
    "def decompress_pickle(file):\n",
    "    data = bz2.BZ2File(file, 'rb')\n",
    "    data = cPickle.load(data)\n",
    "    return data"
   ]
  },
  {
   "cell_type": "code",
   "execution_count": 91,
   "metadata": {},
   "outputs": [],
   "source": [
    "# Save training and testing data\n",
    "compressed_pickle(\"training_testing_preprocessed\", training_testing_data)"
   ]
  },
  {
   "cell_type": "code",
   "execution_count": 92,
   "metadata": {},
   "outputs": [],
   "source": [
    "# Load training and testing data\n",
    "training_testing_data = decompress_pickle(\"./training_testing_preprocessed.pbz2\")"
   ]
  },
  {
   "cell_type": "markdown",
   "metadata": {
    "id": "BNCmEWzv_aS2"
   },
   "source": [
    "## Model Experiment"
   ]
  },
  {
   "cell_type": "code",
   "execution_count": 79,
   "metadata": {
    "colab": {
     "base_uri": "https://localhost:8080/"
    },
    "executionInfo": {
     "elapsed": 10,
     "status": "ok",
     "timestamp": 1638720992417,
     "user": {
      "displayName": "Kaenova Mahendra Auditama",
      "photoUrl": "https://lh3.googleusercontent.com/a-/AOh14Gi1RKfxEOWo3OIlFm8PnyXZE9ZHeE2hrNOTSBDKYw=s64",
      "userId": "02421881994816586492"
     },
     "user_tz": -420
    },
    "id": "qE7B77XQ_hPk",
    "outputId": "9b9a928f-63e0-4c81-b11e-c923475710f4"
   },
   "outputs": [
    {
     "name": "stdout",
     "output_type": "stream",
     "text": [
      "Folds Number: 1\n",
      "Folds Number: 2\n",
      "Folds Number: 3\n",
      "Folds Number: 4\n",
      "Akurasi rata-rata model: nan\n"
     ]
    },
    {
     "name": "stderr",
     "output_type": "stream",
     "text": [
      "/home/kaenova/.local/lib/python3.8/site-packages/numpy/core/fromnumeric.py:3334: RuntimeWarning: Mean of empty slice.\n",
      "  return _methods._mean(a, axis=axis, dtype=dtype,\n",
      "/home/kaenova/.local/lib/python3.8/site-packages/numpy/core/_methods.py:161: RuntimeWarning: invalid value encountered in double_scalars\n",
      "  ret = ret.dtype.type(ret / rcount)\n"
     ]
    }
   ],
   "source": [
    "# Template untuk modeling dengan k folds\n",
    "training_data_args = 'best_one_hot_oridnalOnTarget' #@param [\"best_one_hot\", \"all_one_hot\", \"all_ordinal\", \"best_one_hot_oridnalOnTarget\"]\n",
    "training_data_fold = training_testing_data[training_data_args]\n",
    "akurasi = []\n",
    "\n",
    "for i in training_data_fold.keys():\n",
    "    if type(i) == int:\n",
    "        print(\"Folds Number:\", i+1)\n",
    "        X_train, X_test, y_train, y_test = training_data_fold[i][\"X_train\"], training_data_fold[i][\"X_test\"], training_data_fold[i][\"y_train\"], training_data_fold[i][\"y_train\"]\n",
    "        # Masukkin Model\n",
    "        # Append akurasi ke variable 'akurasi'\n",
    "        \n",
    "print(\"Akurasi rata-rata model:\",np.mean(akurasi))\n",
    "\n",
    "# Masukkan validasi data testing\n"
   ]
  },
  {
   "cell_type": "markdown",
   "metadata": {
    "id": "GPvEnC67R-k9"
   },
   "source": [
    "### Naive Bayes"
   ]
  },
  {
   "cell_type": "code",
   "execution_count": 80,
   "metadata": {
    "colab": {
     "base_uri": "https://localhost:8080/"
    },
    "executionInfo": {
     "elapsed": 512,
     "status": "ok",
     "timestamp": 1639016506737,
     "user": {
      "displayName": "Kaenova Mahendra Auditama",
      "photoUrl": "https://lh3.googleusercontent.com/a-/AOh14Gi1RKfxEOWo3OIlFm8PnyXZE9ZHeE2hrNOTSBDKYw=s64",
      "userId": "02421881994816586492"
     },
     "user_tz": -420
    },
    "id": "gDZbxfduSEC_",
    "outputId": "f5de1f3a-7619-47af-81f7-1eeab5985afd"
   },
   "outputs": [
    {
     "name": "stdout",
     "output_type": "stream",
     "text": [
      "Folds Number: 1\n",
      "Folds Number: 2\n",
      "Folds Number: 3\n",
      "Folds Number: 4\n",
      "Akurasi rata-rata model: 0.7434664869211485\n",
      "Akurasi data test: 0.7488806529702864\n"
     ]
    }
   ],
   "source": [
    "from sklearn.naive_bayes import CategoricalNB\n",
    "\n",
    "# Template untuk modeling dengan k folds\n",
    "training_data_args = 'all_ordinal' #@param [\"best_one_hot\", \"all_one_hot\", \"all_ordinal\", \"best_one_hot_oridnalOnTarget\"]\n",
    "training_data_fold = training_testing_data[training_data_args]\n",
    "akurasi = []\n",
    "\n",
    "for i in training_data_fold.keys():\n",
    "    if type(i) == int:\n",
    "        print(\"Folds Number:\", i+1)\n",
    "        X_train, X_test, y_train, y_test = training_data_fold[i][\"X_train\"], training_data_fold[i][\"X_test\"], training_data_fold[i][\"y_train\"], training_data_fold[i][\"y_test\"]\n",
    "        # Masukkin Model\n",
    "        model = CategoricalNB().fit(X_train, y_train)\n",
    "        # Append akurasi ke variable 'akurasi'\n",
    "        akurasi.append(model.score(X_test, y_test))\n",
    "        \n",
    "print(\"Akurasi rata-rata model:\",np.mean(akurasi))\n",
    "\n",
    "# Masukkan validasi data testing\n",
    "print(\"Akurasi data test:\",model.score(training_data_fold[\"Test\"][\"X\"], training_data_fold[\"Test\"][\"y\"]))"
   ]
  },
  {
   "cell_type": "markdown",
   "metadata": {
    "id": "Z0kyUbkVI96I"
   },
   "source": [
    "### Decssion Tree"
   ]
  },
  {
   "cell_type": "code",
   "execution_count": 185,
   "metadata": {
    "colab": {
     "base_uri": "https://localhost:8080/"
    },
    "executionInfo": {
     "elapsed": 416,
     "status": "ok",
     "timestamp": 1639016497434,
     "user": {
      "displayName": "Kaenova Mahendra Auditama",
      "photoUrl": "https://lh3.googleusercontent.com/a-/AOh14Gi1RKfxEOWo3OIlFm8PnyXZE9ZHeE2hrNOTSBDKYw=s64",
      "userId": "02421881994816586492"
     },
     "user_tz": -420
    },
    "id": "aTwiOWS0jxz3",
    "outputId": "e073f260-059b-4176-e9b6-61b432001eb2"
   },
   "outputs": [
    {
     "name": "stdout",
     "output_type": "stream",
     "text": [
      "Folds Number: 1\n",
      "Folds Number: 2\n",
      "Folds Number: 3\n",
      "Folds Number: 4\n",
      "Akurasi rata-rata model: 0.8729601248758336\n",
      "Akurasi data test: 0.8752758199618672\n"
     ]
    }
   ],
   "source": [
    "from sklearn.tree import DecisionTreeClassifier\n",
    "\n",
    "# Template untuk modeling dengan k folds\n",
    "training_data_args = 'best_one_hot_oridnalOnTarget' #@param [\"best_one_hot\", \"all_one_hot\", \"all_ordinal\", \"best_one_hot_oridnalOnTarget\"]\n",
    "training_data_fold = training_testing_data[training_data_args]\n",
    "akurasi = []\n",
    "\n",
    "for i in training_data_fold.keys():\n",
    "    if type(i) == int:\n",
    "        print(\"Folds Number:\", i+1)\n",
    "        X_train, X_test, y_train, y_test = training_data_fold[i][\"X_train\"], training_data_fold[i][\"X_test\"], training_data_fold[i][\"y_train\"], training_data_fold[i][\"y_test\"]\n",
    "        # Masukkin Model\n",
    "        model = DecisionTreeClassifier(criterion=\"entropy\").fit(X_train, y_train)\n",
    "        # Append akurasi ke variable 'akurasi'\n",
    "        akurasi.append(model.score(X_test, y_test))\n",
    "        \n",
    "\n",
    "print(\"Akurasi rata-rata model:\",np.mean(akurasi))\n",
    "\n",
    "# Masukkan validasi data testing\n",
    "print(\"Akurasi data test:\",model.score(training_data_fold[\"Test\"][\"X\"], training_data_fold[\"Test\"][\"y\"]))"
   ]
  },
  {
   "cell_type": "code",
   "execution_count": null,
   "metadata": {
    "id": "VBGKH-Eq2NsA"
   },
   "outputs": [],
   "source": []
  },
  {
   "cell_type": "markdown",
   "metadata": {
    "id": "94qxgzCvJGIm"
   },
   "source": [
    "### Logistic Reggression"
   ]
  },
  {
   "cell_type": "code",
   "execution_count": 187,
   "metadata": {
    "colab": {
     "base_uri": "https://localhost:8080/"
    },
    "executionInfo": {
     "elapsed": 20474,
     "status": "ok",
     "timestamp": 1639016545786,
     "user": {
      "displayName": "Kaenova Mahendra Auditama",
      "photoUrl": "https://lh3.googleusercontent.com/a-/AOh14Gi1RKfxEOWo3OIlFm8PnyXZE9ZHeE2hrNOTSBDKYw=s64",
      "userId": "02421881994816586492"
     },
     "user_tz": -420
    },
    "id": "DmQZOXvRjyy4",
    "outputId": "1082f9c3-da7a-4a8c-93a4-ed11e7222118"
   },
   "outputs": [
    {
     "name": "stdout",
     "output_type": "stream",
     "text": [
      "Folds Number: 1\n",
      "Folds Number: 2\n",
      "Folds Number: 3\n",
      "Folds Number: 4\n",
      "Akurasi rata-rata model: 0.8729601248758336\n",
      "Akurasi data test: 0.8752758199618672\n"
     ]
    }
   ],
   "source": [
    "from sklearn.linear_model import LogisticRegressionCV\n",
    "\n",
    "# Template untuk modeling dengan k folds\n",
    "training_data_args = 'best_one_hot_oridnalOnTarget' #@param [\"best_one_hot\", \"all_one_hot\", \"all_ordinal\", \"best_one_hot_oridnalOnTarget\"]\n",
    "training_data_fold = training_testing_data[training_data_args]\n",
    "akurasi = []\n",
    "\n",
    "for i in training_data_fold.keys():\n",
    "    if type(i) == int:\n",
    "        print(\"Folds Number:\", i+1)\n",
    "        X_train, X_test, y_train, y_test = training_data_fold[i][\"X_train\"], training_data_fold[i][\"X_test\"], training_data_fold[i][\"y_train\"], training_data_fold[i][\"y_test\"]\n",
    "        # Masukkin Model\n",
    "        model = LogisticRegressionCV().fit(X_train, y_train)\n",
    "        # Append akurasi ke variable 'akurasi'\n",
    "        akurasi.append(model.score(X_test, y_test))\n",
    "    \n",
    "print(\"Akurasi rata-rata model:\",np.mean(akurasi))\n",
    "\n",
    "# Masukkan validasi data testing\n",
    "print(\"Akurasi data test:\",model.score(training_data_fold[\"Test\"][\"X\"], training_data_fold[\"Test\"][\"y\"]))"
   ]
  },
  {
   "cell_type": "markdown",
   "metadata": {
    "id": "MkUj-AAKJC10"
   },
   "source": [
    "### Artificial Neural Network"
   ]
  },
  {
   "cell_type": "code",
   "execution_count": null,
   "metadata": {
    "colab": {
     "base_uri": "https://localhost:8080/"
    },
    "executionInfo": {
     "elapsed": 251620,
     "status": "ok",
     "timestamp": 1637899090922,
     "user": {
      "displayName": "Kaenova Mahendra Auditama",
      "photoUrl": "https://lh3.googleusercontent.com/a-/AOh14Gi1RKfxEOWo3OIlFm8PnyXZE9ZHeE2hrNOTSBDKYw=s64",
      "userId": "02421881994816586492"
     },
     "user_tz": -420
    },
    "id": "RNfO6nMeN5hy",
    "outputId": "79c71a73-6e95-4baf-cffb-62c2f88d6300"
   },
   "outputs": [
    {
     "name": "stdout",
     "output_type": "stream",
     "text": [
      "Folds Number: 1\n",
      "Epoch 1/5\n",
      "6343/6343 [==============================] - 11s 2ms/step - loss: 0.2989 - accuracy: 0.8722 - categorical_accuracy: 0.8722 - precision: 0.8726\n",
      "Epoch 2/5\n",
      "6343/6343 [==============================] - 10s 2ms/step - loss: 0.2920 - accuracy: 0.8730 - categorical_accuracy: 0.8730 - precision: 0.8730\n",
      "Epoch 3/5\n",
      "6343/6343 [==============================] - 10s 2ms/step - loss: 0.2921 - accuracy: 0.8730 - categorical_accuracy: 0.8730 - precision: 0.8730\n",
      "Epoch 4/5\n",
      "6343/6343 [==============================] - 10s 2ms/step - loss: 0.2920 - accuracy: 0.8730 - categorical_accuracy: 0.8730 - precision: 0.8730\n",
      "Epoch 5/5\n",
      "6343/6343 [==============================] - 10s 2ms/step - loss: 0.2919 - accuracy: 0.8730 - categorical_accuracy: 0.8730 - precision: 0.8730\n",
      "1322/1322 [==============================] - 2s 1ms/step - loss: 0.2915 - accuracy: 0.8730 - categorical_accuracy: 0.8730 - precision: 0.8730\n",
      "accuracy: 0.8729719519615173\n",
      "Folds Number: 2\n",
      "Epoch 1/5\n",
      "6343/6343 [==============================] - 11s 2ms/step - loss: 0.3079 - accuracy: 0.8689 - categorical_accuracy: 0.8689 - precision_1: 0.8583\n",
      "Epoch 2/5\n",
      "6343/6343 [==============================] - 10s 2ms/step - loss: 0.2918 - accuracy: 0.8730 - categorical_accuracy: 0.8730 - precision_1: 0.8730\n",
      "Epoch 3/5\n",
      "6343/6343 [==============================] - 10s 2ms/step - loss: 0.2917 - accuracy: 0.8730 - categorical_accuracy: 0.8730 - precision_1: 0.8730\n",
      "Epoch 4/5\n",
      "6343/6343 [==============================] - 10s 2ms/step - loss: 0.2917 - accuracy: 0.8730 - categorical_accuracy: 0.8730 - precision_1: 0.8730\n",
      "Epoch 5/5\n",
      "6343/6343 [==============================] - 10s 2ms/step - loss: 0.2917 - accuracy: 0.8730 - categorical_accuracy: 0.8730 - precision_1: 0.8730\n",
      "1322/1322 [==============================] - 2s 1ms/step - loss: 0.2918 - accuracy: 0.8730 - categorical_accuracy: 0.8730 - precision_1: 0.8730\n",
      "accuracy: 0.8729719519615173\n",
      "Folds Number: 3\n",
      "Epoch 1/5\n",
      "6343/6343 [==============================] - 11s 2ms/step - loss: 0.2991 - accuracy: 0.8730 - categorical_accuracy: 0.8730 - precision_2: 0.8718\n",
      "Epoch 2/5\n",
      "6343/6343 [==============================] - 10s 2ms/step - loss: 0.2920 - accuracy: 0.8730 - categorical_accuracy: 0.8730 - precision_2: 0.8730\n",
      "Epoch 3/5\n",
      "6343/6343 [==============================] - 10s 2ms/step - loss: 0.2919 - accuracy: 0.8730 - categorical_accuracy: 0.8730 - precision_2: 0.8730\n",
      "Epoch 4/5\n",
      "6343/6343 [==============================] - 10s 2ms/step - loss: 0.2920 - accuracy: 0.8730 - categorical_accuracy: 0.8730 - precision_2: 0.8730\n",
      "Epoch 5/5\n",
      "6343/6343 [==============================] - 10s 2ms/step - loss: 0.2920 - accuracy: 0.8730 - categorical_accuracy: 0.8730 - precision_2: 0.8730\n",
      "1322/1322 [==============================] - 2s 1ms/step - loss: 0.2913 - accuracy: 0.8729 - categorical_accuracy: 0.8729 - precision_2: 0.8729\n",
      "accuracy: 0.8729482889175415\n",
      "Folds Number: 4\n",
      "Epoch 1/5\n",
      "6343/6343 [==============================] - 11s 2ms/step - loss: 0.2967 - accuracy: 0.8730 - categorical_accuracy: 0.8730 - precision_3: 0.8730\n",
      "Epoch 2/5\n",
      "6343/6343 [==============================] - 10s 2ms/step - loss: 0.2918 - accuracy: 0.8730 - categorical_accuracy: 0.8730 - precision_3: 0.8730\n",
      "Epoch 3/5\n",
      "6343/6343 [==============================] - 10s 2ms/step - loss: 0.2918 - accuracy: 0.8730 - categorical_accuracy: 0.8730 - precision_3: 0.8730\n",
      "Epoch 4/5\n",
      "6343/6343 [==============================] - 11s 2ms/step - loss: 0.2918 - accuracy: 0.8730 - categorical_accuracy: 0.8730 - precision_3: 0.8730\n",
      "Epoch 5/5\n",
      "6343/6343 [==============================] - 11s 2ms/step - loss: 0.2918 - accuracy: 0.8730 - categorical_accuracy: 0.8730 - precision_3: 0.8730\n",
      "1322/1322 [==============================] - 2s 1ms/step - loss: 0.2921 - accuracy: 0.8729 - categorical_accuracy: 0.8729 - precision_3: 0.8729\n",
      "accuracy: 0.8729482889175415\n",
      "Akurasi rata-rata model: 0.8729601204395294\n"
     ]
    }
   ],
   "source": [
    "# Template untuk modeling dengan k folds\n",
    "training_data_args = 'best_one_hot' #@param [\"best_one_hot\", \"all_one_hot\", \"all_ordinal\"]\n",
    "training_data_fold = training_data[training_data_args]\n",
    "akurasi = []\n",
    "\n",
    "for i in training_data_fold.keys():\n",
    "    if type(i) == int:\n",
    "        print(\"Folds Number:\", i+1)\n",
    "        X_train, X_test, y_train, y_test = training_data_fold[i][\"X_train\"], training_data_fold[i][\"X_test\"], training_data_fold[i][\"y_train\"], training_data_fold[i][\"y_test\"]\n",
    "        # Masukkin Model\n",
    "        model = Sequential()\n",
    "        model.add(Dense(12, input_dim=len(X_train[0]), activation='relu'))\n",
    "        model.add(Dense(8, activation='relu'))\n",
    "        model.add(Dense(len(y_train[0]), activation='sigmoid')) \n",
    "        model.compile(optimizer=\"Adam\", loss=\"binary_crossentropy\", \n",
    "                      metrics=[\"accuracy\",\n",
    "                               \"categorical_accuracy\",\n",
    "                               tf.keras.metrics.Precision()\n",
    "                               ]\n",
    "                    )\n",
    "        model.fit(X_train, y_train, epochs=5, batch_size=20)\n",
    "        metrics = model.evaluate(X_test, y_test)\n",
    "        print(\"accuracy:\",metrics[1])\n",
    "        akurasi.append(metrics[1])\n",
    "        # Append akurasi ke variable 'akurasi'\n",
    "        \n",
    "print(\"Akurasi rata-rata model:\",np.mean(akurasi))"
   ]
  },
  {
   "cell_type": "code",
   "execution_count": null,
   "metadata": {
    "colab": {
     "base_uri": "https://localhost:8080/"
    },
    "executionInfo": {
     "elapsed": 268317,
     "status": "ok",
     "timestamp": 1637899359228,
     "user": {
      "displayName": "Kaenova Mahendra Auditama",
      "photoUrl": "https://lh3.googleusercontent.com/a-/AOh14Gi1RKfxEOWo3OIlFm8PnyXZE9ZHeE2hrNOTSBDKYw=s64",
      "userId": "02421881994816586492"
     },
     "user_tz": -420
    },
    "id": "QL8ynV9lUtZ7",
    "outputId": "91b086c0-2cbc-4732-e175-832a20902a1b"
   },
   "outputs": [
    {
     "name": "stdout",
     "output_type": "stream",
     "text": [
      "Folds Number: 1\n",
      "Epoch 1/5\n",
      "6343/6343 [==============================] - 12s 2ms/step - loss: 0.2837 - accuracy: 0.8730 - categorical_accuracy: 0.8730 - precision_4: 0.8730\n",
      "Epoch 2/5\n",
      "6343/6343 [==============================] - 12s 2ms/step - loss: 0.2760 - accuracy: 0.8730 - categorical_accuracy: 0.8730 - precision_4: 0.8730\n",
      "Epoch 3/5\n",
      "6343/6343 [==============================] - 11s 2ms/step - loss: 0.2749 - accuracy: 0.8730 - categorical_accuracy: 0.8730 - precision_4: 0.8730\n",
      "Epoch 4/5\n",
      "6343/6343 [==============================] - 11s 2ms/step - loss: 0.2742 - accuracy: 0.8729 - categorical_accuracy: 0.8729 - precision_4: 0.8729\n",
      "Epoch 5/5\n",
      "6343/6343 [==============================] - 11s 2ms/step - loss: 0.2736 - accuracy: 0.8730 - categorical_accuracy: 0.8730 - precision_4: 0.8730\n",
      "1322/1322 [==============================] - 2s 1ms/step - loss: 0.2758 - accuracy: 0.8730 - categorical_accuracy: 0.8730 - precision_4: 0.8730\n",
      "accuracy: 0.8729719519615173\n",
      "Folds Number: 2\n",
      "Epoch 1/5\n",
      "6343/6343 [==============================] - 12s 2ms/step - loss: 0.2846 - accuracy: 0.8729 - categorical_accuracy: 0.8729 - precision_5: 0.8729\n",
      "Epoch 2/5\n",
      "6343/6343 [==============================] - 11s 2ms/step - loss: 0.2769 - accuracy: 0.8730 - categorical_accuracy: 0.8730 - precision_5: 0.8730\n",
      "Epoch 3/5\n",
      "6343/6343 [==============================] - 11s 2ms/step - loss: 0.2758 - accuracy: 0.8730 - categorical_accuracy: 0.8730 - precision_5: 0.8730\n",
      "Epoch 4/5\n",
      "6343/6343 [==============================] - 11s 2ms/step - loss: 0.2749 - accuracy: 0.8730 - categorical_accuracy: 0.8730 - precision_5: 0.8730\n",
      "Epoch 5/5\n",
      "6343/6343 [==============================] - 14s 2ms/step - loss: 0.2741 - accuracy: 0.8730 - categorical_accuracy: 0.8730 - precision_5: 0.8730\n",
      "1322/1322 [==============================] - 2s 1ms/step - loss: 0.2748 - accuracy: 0.8730 - categorical_accuracy: 0.8730 - precision_5: 0.8730\n",
      "accuracy: 0.8729719519615173\n",
      "Folds Number: 3\n",
      "Epoch 1/5\n",
      "6343/6343 [==============================] - 12s 2ms/step - loss: 0.2872 - accuracy: 0.8713 - categorical_accuracy: 0.8713 - precision_6: 0.8717\n",
      "Epoch 2/5\n",
      "6343/6343 [==============================] - 12s 2ms/step - loss: 0.2761 - accuracy: 0.8730 - categorical_accuracy: 0.8730 - precision_6: 0.8730\n",
      "Epoch 3/5\n",
      "6343/6343 [==============================] - 11s 2ms/step - loss: 0.2750 - accuracy: 0.8729 - categorical_accuracy: 0.8729 - precision_6: 0.8731\n",
      "Epoch 4/5\n",
      "6343/6343 [==============================] - 11s 2ms/step - loss: 0.2745 - accuracy: 0.8730 - categorical_accuracy: 0.8730 - precision_6: 0.8730\n",
      "Epoch 5/5\n",
      "6343/6343 [==============================] - 11s 2ms/step - loss: 0.2739 - accuracy: 0.8730 - categorical_accuracy: 0.8730 - precision_6: 0.8730\n",
      "1322/1322 [==============================] - 3s 1ms/step - loss: 0.2754 - accuracy: 0.8730 - categorical_accuracy: 0.8730 - precision_6: 0.8730\n",
      "accuracy: 0.8729956150054932\n",
      "Folds Number: 4\n",
      "Epoch 1/5\n",
      "6343/6343 [==============================] - 12s 2ms/step - loss: 0.2878 - accuracy: 0.8710 - categorical_accuracy: 0.8710 - precision_7: 0.8641\n",
      "Epoch 2/5\n",
      "6343/6343 [==============================] - 12s 2ms/step - loss: 0.2769 - accuracy: 0.8730 - categorical_accuracy: 0.8730 - precision_7: 0.8730\n",
      "Epoch 3/5\n",
      "6343/6343 [==============================] - 12s 2ms/step - loss: 0.2761 - accuracy: 0.8730 - categorical_accuracy: 0.8730 - precision_7: 0.8730\n",
      "Epoch 4/5\n",
      "6343/6343 [==============================] - 12s 2ms/step - loss: 0.2753 - accuracy: 0.8730 - categorical_accuracy: 0.8730 - precision_7: 0.8730\n",
      "Epoch 5/5\n",
      "6343/6343 [==============================] - 12s 2ms/step - loss: 0.2748 - accuracy: 0.8730 - categorical_accuracy: 0.8730 - precision_7: 0.8730\n",
      "1322/1322 [==============================] - 2s 1ms/step - loss: 0.2761 - accuracy: 0.8729 - categorical_accuracy: 0.8729 - precision_7: 0.8729\n",
      "accuracy: 0.8729482889175415\n",
      "Akurasi rata-rata model: 0.8729719519615173\n"
     ]
    }
   ],
   "source": [
    "# Template untuk modeling dengan k folds\n",
    "training_data_args = 'all_one_hot' #@param [\"best_one_hot\", \"all_one_hot\", \"all_ordinal\"]\n",
    "training_data_fold = training_data[training_data_args]\n",
    "akurasi = []\n",
    "\n",
    "for i in training_data_fold.keys():\n",
    "    if type(i) == int:\n",
    "        print(\"Folds Number:\", i+1)\n",
    "        X_train, X_test, y_train, y_test = training_data_fold[i][\"X_train\"], training_data_fold[i][\"X_test\"], training_data_fold[i][\"y_train\"], training_data_fold[i][\"y_test\"]\n",
    "        # Masukkin Model\n",
    "        model = Sequential()\n",
    "        model.add(Dense(12, input_dim=len(X_train[0]), activation='relu'))\n",
    "        model.add(Dense(8, activation='relu'))\n",
    "        model.add(Dense(len(y_train[0]), activation='sigmoid')) \n",
    "        model.compile(optimizer=\"Adam\", loss=\"binary_crossentropy\", \n",
    "                      metrics=[\"accuracy\",\n",
    "                               \"categorical_accuracy\",\n",
    "                               tf.keras.metrics.Precision()\n",
    "                               ]\n",
    "                    )\n",
    "        model.fit(X_train, y_train, epochs=5, batch_size=20)\n",
    "        metrics = model.evaluate(X_test, y_test)\n",
    "        print(\"accuracy:\",metrics[1])\n",
    "        akurasi.append(metrics[1])\n",
    "        # Append akurasi ke variable 'akurasi'\n",
    "        \n",
    "\n",
    "print(\"Akurasi rata-rata model:\",np.mean(akurasi))"
   ]
  },
  {
   "cell_type": "code",
   "execution_count": null,
   "metadata": {
    "colab": {
     "base_uri": "https://localhost:8080/"
    },
    "executionInfo": {
     "elapsed": 264177,
     "status": "ok",
     "timestamp": 1637899623396,
     "user": {
      "displayName": "Kaenova Mahendra Auditama",
      "photoUrl": "https://lh3.googleusercontent.com/a-/AOh14Gi1RKfxEOWo3OIlFm8PnyXZE9ZHeE2hrNOTSBDKYw=s64",
      "userId": "02421881994816586492"
     },
     "user_tz": -420
    },
    "id": "GfkHwVL3UyMC",
    "outputId": "8b84a82c-14a7-4ca8-f7e9-228f8fa4c39f"
   },
   "outputs": [
    {
     "name": "stdout",
     "output_type": "stream",
     "text": [
      "Folds Number: 1\n",
      "Epoch 1/5\n",
      "6343/6343 [==============================] - 12s 2ms/step - loss: 0.3352 - accuracy: 0.8727 - categorical_accuracy: 0.8727 - precision_8: 0.8681\n",
      "Epoch 2/5\n",
      "6343/6343 [==============================] - 11s 2ms/step - loss: 0.2928 - accuracy: 0.8728 - categorical_accuracy: 0.8728 - precision_8: 0.8727\n",
      "Epoch 3/5\n",
      "6343/6343 [==============================] - 11s 2ms/step - loss: 0.2901 - accuracy: 0.8728 - categorical_accuracy: 0.8728 - precision_8: 0.8729\n",
      "Epoch 4/5\n",
      "6343/6343 [==============================] - 11s 2ms/step - loss: 0.2879 - accuracy: 0.8730 - categorical_accuracy: 0.8730 - precision_8: 0.8730\n",
      "Epoch 5/5\n",
      "6343/6343 [==============================] - 11s 2ms/step - loss: 0.2870 - accuracy: 0.8728 - categorical_accuracy: 0.8728 - precision_8: 0.8728\n",
      "1322/1322 [==============================] - 2s 1ms/step - loss: 0.2878 - accuracy: 0.8726 - categorical_accuracy: 0.8726 - precision_8: 0.8726\n",
      "accuracy: 0.8726171851158142\n",
      "Folds Number: 2\n",
      "Epoch 1/5\n",
      "6343/6343 [==============================] - 12s 2ms/step - loss: 0.3196 - accuracy: 0.8719 - categorical_accuracy: 0.8719 - precision_9: 0.8746\n",
      "Epoch 2/5\n",
      "6343/6343 [==============================] - 11s 2ms/step - loss: 0.2956 - accuracy: 0.8719 - categorical_accuracy: 0.8719 - precision_9: 0.8733\n",
      "Epoch 3/5\n",
      "6343/6343 [==============================] - 11s 2ms/step - loss: 0.2933 - accuracy: 0.8722 - categorical_accuracy: 0.8722 - precision_9: 0.8727\n",
      "Epoch 4/5\n",
      "6343/6343 [==============================] - 11s 2ms/step - loss: 0.2927 - accuracy: 0.8723 - categorical_accuracy: 0.8723 - precision_9: 0.8724\n",
      "Epoch 5/5\n",
      "6343/6343 [==============================] - 11s 2ms/step - loss: 0.2912 - accuracy: 0.8724 - categorical_accuracy: 0.8724 - precision_9: 0.8724\n",
      "1322/1322 [==============================] - 2s 1ms/step - loss: 0.2872 - accuracy: 0.8729 - categorical_accuracy: 0.8729 - precision_9: 0.8729\n",
      "accuracy: 0.8729482889175415\n",
      "Folds Number: 3\n",
      "Epoch 1/5\n",
      "6343/6343 [==============================] - 12s 2ms/step - loss: 0.3608 - accuracy: 0.8730 - categorical_accuracy: 0.8730 - precision_10: 0.8691\n",
      "Epoch 2/5\n",
      "6343/6343 [==============================] - 11s 2ms/step - loss: 0.2915 - accuracy: 0.8729 - categorical_accuracy: 0.8729 - precision_10: 0.8729\n",
      "Epoch 3/5\n",
      "6343/6343 [==============================] - 11s 2ms/step - loss: 0.2892 - accuracy: 0.8730 - categorical_accuracy: 0.8730 - precision_10: 0.8730\n",
      "Epoch 4/5\n",
      "6343/6343 [==============================] - 11s 2ms/step - loss: 0.2877 - accuracy: 0.8730 - categorical_accuracy: 0.8730 - precision_10: 0.8730\n",
      "Epoch 5/5\n",
      "6343/6343 [==============================] - 11s 2ms/step - loss: 0.2873 - accuracy: 0.8730 - categorical_accuracy: 0.8730 - precision_10: 0.8730\n",
      "1322/1322 [==============================] - 2s 2ms/step - loss: 0.3021 - accuracy: 0.8729 - categorical_accuracy: 0.8729 - precision_10: 0.8729\n",
      "accuracy: 0.8729482889175415\n",
      "Folds Number: 4\n",
      "Epoch 1/5\n",
      "6343/6343 [==============================] - 12s 2ms/step - loss: 0.3189 - accuracy: 0.8717 - categorical_accuracy: 0.8717 - precision_11: 0.8710\n",
      "Epoch 2/5\n",
      "6343/6343 [==============================] - 11s 2ms/step - loss: 0.2917 - accuracy: 0.8726 - categorical_accuracy: 0.8726 - precision_11: 0.8725\n",
      "Epoch 3/5\n",
      "6343/6343 [==============================] - 11s 2ms/step - loss: 0.2896 - accuracy: 0.8729 - categorical_accuracy: 0.8729 - precision_11: 0.8729\n",
      "Epoch 4/5\n",
      "6343/6343 [==============================] - 11s 2ms/step - loss: 0.2882 - accuracy: 0.8730 - categorical_accuracy: 0.8730 - precision_11: 0.8730\n",
      "Epoch 5/5\n",
      "6343/6343 [==============================] - 11s 2ms/step - loss: 0.2878 - accuracy: 0.8730 - categorical_accuracy: 0.8730 - precision_11: 0.8730\n",
      "1322/1322 [==============================] - 2s 1ms/step - loss: 0.2852 - accuracy: 0.8729 - categorical_accuracy: 0.8729 - precision_11: 0.8729\n",
      "accuracy: 0.8729482889175415\n",
      "Akurasi rata-rata model: 0.8728655129671097\n"
     ]
    }
   ],
   "source": [
    "# Template untuk modeling dengan k folds\n",
    "training_data_args = 'all_ordinal' #@param [\"best_one_hot\", \"all_one_hot\", \"all_ordinal\"]\n",
    "training_data_fold = training_data[training_data_args]\n",
    "akurasi = []\n",
    "\n",
    "for i in training_data_fold.keys():\n",
    "    if type(i) == int:\n",
    "        print(\"Folds Number:\", i+1)\n",
    "        X_train, X_test, y_train, y_test = training_data_fold[i][\"X_train\"], training_data_fold[i][\"X_test\"], training_data_fold[i][\"y_train\"], training_data_fold[i][\"y_test\"]\n",
    "        # Masukkin Model\n",
    "        model = Sequential()\n",
    "        model.add(Dense(12, input_dim=len(X_train[0]), activation='relu'))\n",
    "        model.add(Dense(8, activation='relu'))\n",
    "        model.add(Dense(len(y_train[0]), activation='sigmoid')) \n",
    "        model.compile(optimizer=\"Adam\", loss=\"binary_crossentropy\", \n",
    "                      metrics=[\"accuracy\",\n",
    "                               \"categorical_accuracy\",\n",
    "                               tf.keras.metrics.Precision()\n",
    "                               ]\n",
    "                    )\n",
    "        model.fit(X_train, y_train, epochs=5, batch_size=20)\n",
    "        metrics = model.evaluate(X_test, y_test)\n",
    "        print(\"accuracy:\",metrics[1])\n",
    "        akurasi.append(metrics[1])\n",
    "        # Append akurasi ke variable 'akurasi'\n",
    "        \n",
    "\n",
    "print(\"Akurasi rata-rata model:\",np.mean(akurasi))"
   ]
  },
  {
   "cell_type": "markdown",
   "metadata": {
    "id": "f_ZVhVNMJjfl"
   },
   "source": [
    "## Best Model? Let's Train it for the last time"
   ]
  },
  {
   "cell_type": "markdown",
   "metadata": {
    "id": "IX5THehVJmg8"
   },
   "source": [
    "## Predicting Testing Data"
   ]
  },
  {
   "cell_type": "code",
   "execution_count": null,
   "metadata": {
    "id": "jaHgKrBY_aS2"
   },
   "outputs": [],
   "source": []
  }
 ],
 "metadata": {
  "colab": {
   "collapsed_sections": [
    "MkUj-AAKJC10"
   ],
   "name": "Malin_Tubes2_Pengumpulan.ipynb",
   "provenance": []
  },
  "interpreter": {
   "hash": "ac59ebe37160ed0dfa835113d9b8498d9f09ceb179beaac4002f036b9467c963"
  },
  "kernelspec": {
   "display_name": "Python 3 (ipykernel)",
   "language": "python",
   "name": "python3"
  },
  "language_info": {
   "codemirror_mode": {
    "name": "ipython",
    "version": 3
   },
   "file_extension": ".py",
   "mimetype": "text/x-python",
   "name": "python",
   "nbconvert_exporter": "python",
   "pygments_lexer": "ipython3",
   "version": "3.8.10"
  }
 },
 "nbformat": 4,
 "nbformat_minor": 1
}
