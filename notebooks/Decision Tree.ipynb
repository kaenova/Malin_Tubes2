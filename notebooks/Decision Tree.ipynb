{
 "cells": [
  {
   "cell_type": "code",
   "execution_count": 1,
   "id": "a0ccdbb3",
   "metadata": {},
   "outputs": [],
   "source": [
    "import sys\n",
    "sys.path.append('./Module')\n",
    "from PickleSaveLoad import decompress_pickle, compressed_pickle"
   ]
  },
  {
   "cell_type": "code",
   "execution_count": 2,
   "id": "509803bd",
   "metadata": {
    "collapsed": true
   },
   "outputs": [],
   "source": [
    "all_data = decompress_pickle(\"./training_testing_preprocessed.pbz2\")"
   ]
  },
  {
   "cell_type": "code",
   "execution_count": 3,
   "id": "07eca0cb",
   "metadata": {},
   "outputs": [
    {
     "data": {
      "text/plain": [
       "dict_keys(['best_one_hot_oridnalOnTarget', 'best_one_hot', 'all_one_hot', 'all_ordinal'])"
      ]
     },
     "execution_count": 3,
     "metadata": {},
     "output_type": "execute_result"
    }
   ],
   "source": [
    "all_data.keys()"
   ]
  },
  {
   "cell_type": "code",
   "execution_count": 4,
   "id": "88bb6d90",
   "metadata": {
    "scrolled": false
   },
   "outputs": [],
   "source": [
    "X = all_data[\"best_one_hot_oridnalOnTarget\"][1][\"X_train\"]\n",
    "y = all_data[\"best_one_hot_oridnalOnTarget\"][1][\"y_train\"]"
   ]
  },
  {
   "cell_type": "markdown",
   "id": "e382b1ae",
   "metadata": {},
   "source": [
    "# Cara buat decision tree?\n",
    "1. Information Gain? Entropy\n",
    "2. Ambil Information Gain terbesar\n",
    "3. Cek relatif ke target"
   ]
  },
  {
   "cell_type": "code",
   "execution_count": 115,
   "id": "a56fb67a",
   "metadata": {},
   "outputs": [],
   "source": [
    "import numpy as np\n",
    "class DecisionTreeClassifier:\n",
    "    \n",
    "    data_shape = {}\n",
    "    initial_node = None\n",
    "    \n",
    "    def __init__(self):\n",
    "        print(\"DecisionTreeClassifier initialize!\")\n",
    "        print(\"Made by Kaenova Mahendra Auditama\")\n",
    "        print(\"Now do a .fit() to create the decision tree\")\n",
    "    \n",
    "    def fit(self, X: np.array, y: np.array):\n",
    "        # Checking data\n",
    "        if X.shape[0] != y.shape[0]:\n",
    "            raise Exception(\"Bentuk (panjang) X dan y yang dimasukkan tidak serupa.\")\n",
    "        if len(y.shape) > 1:\n",
    "            raise Exception(\"Bentuk y harus 1 dimensi\")\n",
    "        if (X.dtype != 'int'):\n",
    "            print(\"Warning: Data X tidak berbentuk integer, akan dilakukan konversi ke int\")\n",
    "            X = X.astype('int')\n",
    "        if (y.dtype != 'int'):\n",
    "            print(\"Warning: Data y tidak berbentuk integer, akan dilakukan konversi ke int\")\n",
    "            y = y.astype('int')\n",
    "        \n",
    "        # Save Data shape  \n",
    "        # Save data y\n",
    "        self.data_shape[\"y\"] = np.unique(y)\n",
    "        # Save data x\n",
    "        for i in range(len(X[0])):\n",
    "            self.data_shape[i] = np.unique(X[:,i])\n",
    "        \n",
    "        print(\"Label yang ada:\",self.data_shape)\n",
    "        \n",
    "        print(\"Now fitting...\")\n",
    "        self.initial_node = self.Node(X, y, [])\n",
    "        \n",
    "        pass\n",
    "    \n",
    "    def score(self, X: np.array, y: np.array) -> float:\n",
    "        # Check\n",
    "        if self.initial_node == None:\n",
    "            raise Exception(\"Tree belum dibangun, harap lakukan model.fit() terlebih dahulu\")\n",
    "        # Checking data\n",
    "        if X.shape[0] != y.shape[0]:\n",
    "            raise Exception(\"Bentuk (panjang) X dan y yang dimasukkan tidak serupa.\")\n",
    "        if len(y.shape) > 1:\n",
    "            raise Exception(\"Bentuk y harus 1 dimensi\")\n",
    "        if (X.dtype != 'int'):\n",
    "            print(\"Warning: Data X tidak berbentuk integer, akan dilakukan konversi ke int\")\n",
    "            X = X.astype('int')\n",
    "        if (y.dtype != 'int'):\n",
    "            print(\"Warning: Data y tidak berbentuk integer, akan dilakukan konversi ke int\")\n",
    "            y = y.astype('int')\n",
    "        self._data_shape_check(X, y)\n",
    "        \n",
    "        # Do inferencing\n",
    "        \n",
    "        # Do scoring\n",
    "        \n",
    "        # Return Data\n",
    "        pass\n",
    "    \n",
    "    def predict(self, X: np.array) -> np.array:\n",
    "        \n",
    "        # Check\n",
    "        if self.initial_node == None:\n",
    "            raise Exception(\"Tree belum dibangun, harap lakukan model.fit() terlebih dahulu\")\n",
    "        self._data_shape_valid(X, None)\n",
    "        \n",
    "        # Do inferencing\n",
    "        \n",
    "        # Return Data\n",
    "        pass\n",
    "    \n",
    "    def _data_shape_check(self, X: np.array, y: np.array):\n",
    "        # Check y\n",
    "        if y != None:\n",
    "            for i in np.unique(y):\n",
    "                if i not in self.data_shape[\"y\"]:\n",
    "                    raise ValueError(\"Label y tidak sama dengan yang di fit\")\n",
    "        # Check X\n",
    "        for i in range(len(X[0])):\n",
    "            for j in np.unique(X[:,i]):\n",
    "                if j not in self.data_shape[i]:\n",
    "                    raise ValueError(\"Label X tidak sama dengan yang di fit\")\n",
    "                \n",
    "    class Node:\n",
    "        # To save what index is used in this node\n",
    "        # And if it's in the last leaf we'll make it -1\n",
    "        index_num = -1 \n",
    "        used_index = None\n",
    "        other_node = {} # This will be initialize with the labels on the data\n",
    "        def __init__(self, X:np.array, y:np.array, used_index: list):\n",
    "            # Calculate gain\n",
    "            \n",
    "            # Pick biggest gain except the index already used\n",
    "            \n",
    "            #\n",
    "            pass\n",
    "        \n",
    "        def forward(self, X:np.array) -> int:\n",
    "            \n",
    "            return None\n",
    "        \n",
    "        def __information_gain_calc(self, X:np.array, y:np.array) -> np.array:\n",
    "            pass"
   ]
  },
  {
   "cell_type": "code",
   "execution_count": 40,
   "id": "4f66002a",
   "metadata": {},
   "outputs": [],
   "source": [
    "class Bruh:\n",
    "    prop1 = \"Bruh\"\n",
    "    anjay = None\n",
    "    \n",
    "    class Anjay:\n",
    "        prop1 = \"Anjay\"\n",
    "        def __init__(self):\n",
    "            return\n",
    "        \n",
    "        def out(self):\n",
    "            print(self.prop1)\n",
    "            print(\"OK2\")\n",
    "    \n",
    "    def __init__(self):\n",
    "        self.anjay = self.Anjay()\n",
    "    \n",
    "    def out(self):\n",
    "        print(\"Ini dari bruh\")\n",
    "        print(self.prop1)\n",
    "        print(\"Ini dari anjay\")\n",
    "        print(self.anjay.out())\n",
    "        print(\"OK\")"
   ]
  },
  {
   "cell_type": "code",
   "execution_count": 41,
   "id": "0d41d495",
   "metadata": {},
   "outputs": [],
   "source": [
    "test = Bruh()"
   ]
  },
  {
   "cell_type": "code",
   "execution_count": 42,
   "id": "5360802b",
   "metadata": {},
   "outputs": [
    {
     "name": "stdout",
     "output_type": "stream",
     "text": [
      "Ini dari bruh\n",
      "Bruh\n",
      "Ini dari anjay\n",
      "Anjay\n",
      "OK2\n",
      "None\n",
      "OK\n"
     ]
    }
   ],
   "source": [
    "test.out()"
   ]
  },
  {
   "cell_type": "code",
   "execution_count": null,
   "id": "4c855151",
   "metadata": {},
   "outputs": [],
   "source": []
  },
  {
   "cell_type": "code",
   "execution_count": null,
   "id": "f248e651",
   "metadata": {},
   "outputs": [],
   "source": []
  }
 ],
 "metadata": {
  "kernelspec": {
   "display_name": "Python 3 (ipykernel)",
   "language": "python",
   "name": "python3"
  },
  "language_info": {
   "codemirror_mode": {
    "name": "ipython",
    "version": 3
   },
   "file_extension": ".py",
   "mimetype": "text/x-python",
   "name": "python",
   "nbconvert_exporter": "python",
   "pygments_lexer": "ipython3",
   "version": "3.9.2"
  }
 },
 "nbformat": 4,
 "nbformat_minor": 5
}
